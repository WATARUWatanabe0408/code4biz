{
 "cells": [
  {
   "cell_type": "code",
   "execution_count": 4,
   "id": "a0495b49-5158-482f-ac79-fa75c5192812",
   "metadata": {},
   "outputs": [],
   "source": [
    "import requests"
   ]
  },
  {
   "cell_type": "code",
   "execution_count": 20,
   "id": "50e75f19-9aee-4e90-90a2-d39b4ca5208c",
   "metadata": {
    "tags": []
   },
   "outputs": [],
   "source": [
    "url = 'https://jsonplaceholder.typicode.com/users'\n",
    "res = requests.get(url)"
   ]
  },
  {
   "cell_type": "code",
   "execution_count": 21,
   "id": "3e9e0b76-67aa-4f44-96ac-d9f20a091573",
   "metadata": {},
   "outputs": [],
   "source": [
    "results = res.json()"
   ]
  },
  {
   "cell_type": "code",
   "execution_count": 25,
   "id": "11597893-33d9-4894-8939-9a0fcd7449c2",
   "metadata": {},
   "outputs": [
    {
     "data": {
      "text/plain": [
       "'Telly.Hoeger@billy.biz'"
      ]
     },
     "execution_count": 25,
     "metadata": {},
     "output_type": "execute_result"
    }
   ],
   "source": [
    "results[6]['email']"
   ]
  },
  {
   "cell_type": "code",
   "execution_count": null,
   "id": "65d91ef9-e936-46ef-a4e9-71025f29b235",
   "metadata": {},
   "outputs": [],
   "source": []
  }
 ],
 "metadata": {
  "kernelspec": {
   "display_name": "Python 3 (ipykernel)",
   "language": "python",
   "name": "python3"
  },
  "language_info": {
   "codemirror_mode": {
    "name": "ipython",
    "version": 3
   },
   "file_extension": ".py",
   "mimetype": "text/x-python",
   "name": "python",
   "nbconvert_exporter": "python",
   "pygments_lexer": "ipython3",
   "version": "3.9.12"
  }
 },
 "nbformat": 4,
 "nbformat_minor": 5
}
