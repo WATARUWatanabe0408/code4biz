{
 "cells": [
  {
   "cell_type": "code",
   "execution_count": 2,
   "id": "fbfac26f-b87a-496e-8361-9c30b01bf11d",
   "metadata": {},
   "outputs": [],
   "source": [
    "import requests"
   ]
  },
  {
   "cell_type": "code",
   "execution_count": 3,
   "id": "cf588823-71e3-425a-8d5b-0e77ea976151",
   "metadata": {},
   "outputs": [],
   "source": [
    "url = \"https://api.openweathermap.org/data/2.5/weather?q=osaka&appid=f600d4a3e4dd393725f3742dde1abf38&units=metric&lang=ja\""
   ]
  },
  {
   "cell_type": "code",
   "execution_count": 4,
   "id": "9c587ef2-9d8e-4a04-8b73-00c8d0347eb4",
   "metadata": {},
   "outputs": [],
   "source": [
    "payload={}\n",
    "headers = {}"
   ]
  },
  {
   "cell_type": "code",
   "execution_count": 5,
   "id": "0d84fa03-9ddc-46cd-8795-c2c39b7f3247",
   "metadata": {},
   "outputs": [],
   "source": [
    "response = requests.request(\"GET\", url, headers=headers, data=payload)"
   ]
  },
  {
   "cell_type": "code",
   "execution_count": 6,
   "id": "89560caf-8dd9-45bd-9637-0c70c11e67c1",
   "metadata": {},
   "outputs": [
    {
     "name": "stdout",
     "output_type": "stream",
     "text": [
      "{\"coord\":{\"lon\":135.5022,\"lat\":34.6937},\"weather\":[{\"id\":802,\"main\":\"Clouds\",\"description\":\"雲\",\"icon\":\"03d\"}],\"base\":\"stations\",\"main\":{\"temp\":14.86,\"feels_like\":13.6,\"temp_min\":12.36,\"temp_max\":15.96,\"pressure\":1012,\"humidity\":46},\"visibility\":10000,\"wind\":{\"speed\":8.23,\"deg\":360},\"clouds\":{\"all\":40},\"dt\":1650075607,\"sys\":{\"type\":1,\"id\":8032,\"country\":\"JP\",\"sunrise\":1650054335,\"sunset\":1650101387},\"timezone\":32400,\"id\":1853909,\"name\":\"大阪市\",\"cod\":200}\n"
     ]
    }
   ],
   "source": [
    "print(response.text)"
   ]
  },
  {
   "cell_type": "code",
   "execution_count": 7,
   "id": "3525e2ac-b4be-4650-b90b-80bd67836bab",
   "metadata": {},
   "outputs": [],
   "source": [
    "result = response.json()"
   ]
  },
  {
   "cell_type": "code",
   "execution_count": 8,
   "id": "21295dfe-63b3-4e0e-a162-ed1c215b6768",
   "metadata": {},
   "outputs": [
    {
     "data": {
      "text/plain": [
       "'Clouds'"
      ]
     },
     "execution_count": 8,
     "metadata": {},
     "output_type": "execute_result"
    }
   ],
   "source": [
    "result['weather'][0]['main']"
   ]
  },
  {
   "cell_type": "code",
   "execution_count": null,
   "id": "ddc94a49-b5a5-4e82-ae2f-17dcde957e84",
   "metadata": {},
   "outputs": [],
   "source": []
  }
 ],
 "metadata": {
  "kernelspec": {
   "display_name": "Python 3 (ipykernel)",
   "language": "python",
   "name": "python3"
  },
  "language_info": {
   "codemirror_mode": {
    "name": "ipython",
    "version": 3
   },
   "file_extension": ".py",
   "mimetype": "text/x-python",
   "name": "python",
   "nbconvert_exporter": "python",
   "pygments_lexer": "ipython3",
   "version": "3.9.12"
  }
 },
 "nbformat": 4,
 "nbformat_minor": 5
}
