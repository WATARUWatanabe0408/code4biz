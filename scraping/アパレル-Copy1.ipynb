{
 "cells": [
  {
   "cell_type": "code",
   "execution_count": 9,
   "id": "616be6b9-c8f4-49dd-815b-c52d6f1f20f8",
   "metadata": {},
   "outputs": [],
   "source": [
    "from bs4 import BeautifulSoup\n",
    "import requests\n",
    "import re\n",
    "import selenium\n",
    "from selenium import webdriver\n",
    "from webdriver_manager.chrome import ChromeDriverManager\n",
    "from selenium.webdriver.chrome.service import Service\n",
    "from selenium.webdriver.common.by import By\n",
    "# !pip3 install webdriver_manager\n",
    "# !pip3 install -U selenium"
   ]
  },
  {
   "cell_type": "code",
   "execution_count": 2,
   "id": "0945fc83-74c9-4346-92f5-c4c3c9bbfa46",
   "metadata": {},
   "outputs": [],
   "source": [
    "url = 'https://code4biz.jp/demo/apparel'"
   ]
  },
  {
   "cell_type": "code",
   "execution_count": 3,
   "id": "7a41a3f6-4d05-4ecc-9341-cf961221a351",
   "metadata": {},
   "outputs": [],
   "source": [
    "res = requests.get(url)"
   ]
  },
  {
   "cell_type": "code",
   "execution_count": 6,
   "id": "2abf86ad-f132-44c2-99d8-c3d0cc2a8d6e",
   "metadata": {
    "collapsed": true,
    "jupyter": {
     "outputs_hidden": true
    },
    "tags": []
   },
   "outputs": [
    {
     "data": {
      "text/plain": [
       "<!DOCTYPE html>\n",
       "\n",
       "<html data-n-head-ssr=\"\">\n",
       "<head>\n",
       "<title>code4biz apparel</title><meta charset=\"utf-8\" data-n-head=\"ssr\"/><meta content=\"width=device-width, initial-scale=1\" data-hid=\"viewport\" data-n-head=\"ssr\" name=\"viewport\"/><meta content=\"website\" data-hid=\"ogType\" data-n-head=\"ssr\" property=\"og:type\"/><meta content=\"STUDIO\" data-hid=\"generator\" data-n-head=\"ssr\" name=\"generator\"/><meta content=\"noindex, nofollow\" data-hid=\"robots\" data-n-head=\"ssr\" name=\"robots\"/><meta content=\"code4biz｜ビジネス戦闘力を向上させるプログラミングスクール \" data-hid=\"ogSiteName\" data-n-head=\"ssr\" property=\"og:site_name\"/><meta content=\"code4biz apparel\" data-hid=\"ogTitle\" data-n-head=\"ssr\" property=\"og:title\"/><meta content=\"https://storage.googleapis.com/production-os-assets/assets/211c68db-e66c-4cd8-838c-bf5d985a1c65\" data-hid=\"ogImage\" data-n-head=\"ssr\" property=\"og:image\"/><meta content=\"HELLO APPAREL!\" data-hid=\"ogDescription\" data-n-head=\"ssr\" property=\"og:description\"/><meta content=\"HELLO APPAREL!\" data-hid=\"description\" data-n-head=\"ssr\" name=\"description\"/><meta content=\"summary_large_image\" data-hid=\"twitterCard\" data-n-head=\"ssr\" property=\"twitter:card\"/><meta content=\"https://storage.googleapis.com/production-os-assets/assets/211c68db-e66c-4cd8-838c-bf5d985a1c65\" data-hid=\"twitterImage\" data-n-head=\"ssr\" property=\"twitter:image\"/><meta content=\"code4biz apparel\" data-hid=\"appleMobileWebAppTitle\" data-n-head=\"ssr\" name=\"apple-mobile-web-app-title\"/><meta content=\"\" data-hid=\"searchConsole\" data-n-head=\"ssr\" name=\"google-site-verification\"/><meta content=\"https://code4biz.jp/demo/apparel\" data-hid=\"ogUrl\" data-n-head=\"ssr\" property=\"og:url\"/><link data-n-head=\"ssr\" href=\"https://fonts.googleapis.com/css?family=Poppins:100,100i,200,200i,300,300i,400,400i,500,500i,600,600i,700,700i,800,800i,900,900i|Oswald:200,300,400,500,600,700|Roboto:100,100i,300,300i,400,400i,500,500i,700,700i,900,900i|Cookie:400\" rel=\"stylesheet\"/><link data-hid=\"favicon\" data-n-head=\"ssr\" href=\"https://storage.googleapis.com/production-os-assets/assets/eadf5c33-9830-41ea-9529-69dc4c366e3d\" rel=\"icon\" type=\"image/png\"/><link data-hid=\"appleTouchIcon\" data-n-head=\"ssr\" href=\"https://storage.googleapis.com/production-os-assets/assets/eadf5c33-9830-41ea-9529-69dc4c366e3d\" rel=\"apple-touch-icon\" type=\"image/png\"/><link data-n-head=\"ssr\" href=\"https://code4biz.jp/demo/apparel\" rel=\"canonical\"/><script data-n-head=\"ssr\" src=\"//typesquare.com/3/tsst/script/ja/typesquare.js?5ad00062415c46a09fd67fd7ac1e024a&amp;fadein=-1\"></script><link as=\"script\" href=\"/_nuxt/4bcff0a.js\" rel=\"preload\"/><link as=\"script\" href=\"/_nuxt/158aa87.js\" rel=\"preload\"/><link as=\"script\" href=\"/_nuxt/c7c2481.js\" rel=\"preload\"/><link as=\"script\" href=\"/_nuxt/207fdfa.js\" rel=\"preload\"/><style data-vue-ssr-id=\"05327124:0 081906bf:0\">body{visibility:visible!important}\n",
       ".container[data-v-b86b7daa]{transition:none}.container.page-enter[data-v-b86b7daa],.container.page-leave-to[data-v-b86b7daa]{opacity:0}.container.page-enter-active[data-v-b86b7daa],.container.page-leave-active[data-v-b86b7daa]{transition:.3s cubic-bezier(.4,.4,0,1)}</style>\n",
       "</head>\n",
       "<body>\n",
       "<div data-server-rendered=\"true\" id=\"__nuxt\"><div id=\"__layout\"><!-- --></div></div><script>window.__NUXT__=(function(a,b,c,d,e,f,g,h,i,j,k,l,m,n,o,p,q,r,s,t,u,v,w,x,y,z,A,B,C,D,E,F,G,H,I,J,K,L,M,N,O,P,Q,R,S,T,U,V,W,X,Y,Z,_,$,aa,ab,ac,ad,ae,af,ag,ah,ai,aj,ak,al,am,an,ao,ap,aq,ar,as,at,au,av,aw,ax,ay,az,aA,aB,aC,aD,aE,aF,aG,aH,aI,aJ,aK,aL,aM,aN,aO,aP,aQ,aR,aS,aT,aU,aV,aW,aX,aY,aZ){return {layout:\"default\",data:[{dynamicContent:p,host:al}],fetch:{},error:p,state:{isPublish:R,host:al,CmsStore:{schemas:[],schemaTree:{},cmsProject:{},isShowArchiveSchema:t,isContentsEmpty:t,initialized:t,lastContentUpdateDate:E,contentMap:{},route:{contentId:b,schemaId:b,projectId:b}},device:{pixelRatio:2,innerWidth:E,innerHeight:E},product:{product:{breakPoints:[{maxWidth:540,name:\"mobile\"},{maxWidth:840,name:\"tablet\"},{maxWidth:1140,name:\"small\"}],colors:[{color:am,name:\"transparent\"},{color:F,name:\"white\"},{color:G,name:j},{color:S,name:j},{color:Z,name:j},{color:an,name:\"linear-gradient\"},{color:\"#edfffb\",name:j},{color:Z,name:j},{color:\"#ff730f\",name:j},{color:v,name:j},{color:\"#eced91\",name:j},{color:\"rgba(255, 243, 199, 0.42)\",name:j},{color:\"#f4f5f9\",name:j},{color:\"#313131\",name:j},{color:\"#694505\",name:j},{color:\"#eaeaea\",name:j}],fonts:[{family:\"見出ゴMB31 JIS2004\",vendor:_},{family:\"Poppins\",subsets:[\"devanagari\",T,$],variants:[ao,ap,aq,\"200italic\",aa,ar,U,as,ab,at,au,\"600italic\",ac,av,\"800\",\"800italic\",aw,ax],vendor:V},{family:\"Oswald\",subsets:[ay,az,T,$,aA],variants:[aq,aa,U,ab,au,ac],vendor:V},{family:\"中ゴシックBBB JIS2004\",vendor:_},{family:\"Roboto\",subsets:[ay,az,\"greek\",\"greek-ext\",T,$,aA],variants:[ao,ap,aa,ar,U,as,ab,at,ac,av,aw,ax],vendor:V},{family:\"Cookie\",subsets:[T],variants:[U],vendor:V}],head:{favicon:\"https:\\u002F\\u002Fstorage.googleapis.com\\u002Fproduction-os-assets\\u002Fassets\\u002Feadf5c33-9830-41ea-9529-69dc4c366e3d\",meta:{description:\"code4bizは、すでに持っているスキルや経験（営業やマーケティング、経営企画、経理や総務、etc...）にプログラミング（技術）を掛け合わせることで、あなたの市場価値を向上させるオンラインスクールです。\",\"og:image\":\"https:\\u002F\\u002Fstorage.googleapis.com\\u002Fproduction-os-assets\\u002Fassets\\u002F56161915-57df-4afa-9e0d-6c5cecc392be\"},title:\"code4biz｜ビジネス戦闘力を向上させるプログラミングスクール \"},info:{baseWidth:ad,created_at:1518591100346,screen:{baseWidth:ad,height:600,isAutoHeight:t,width:ad,workingState:t},type:aB,updated_at:1518792996878,version:\"2.0.3\"},pages:[{head:{meta:{description:b,\"og:image\":b},title:b},heightExtension:19242,id:aC,name:\"ホーム\",statusBar:\"dark\",type:ae,uuid:\"caa591e5-f542-44ba-8e90-5080a94c7519\",view:p},{head:{meta:{description:\"HELLO APPAREL!\",\"og:image\":\"https:\\u002F\\u002Fstorage.googleapis.com\\u002Fproduction-os-assets\\u002Fassets\\u002F211c68db-e66c-4cd8-838c-bf5d985a1c65\",robots:aD},title:\"code4biz apparel\"},heightExtension:E,id:\"demo\\u002Fapparel\",name:\"（デモ）アパレル商品一覧\",statusBar:b,type:ae,uuid:\"66d94597-bfc8-44cf-b11c-4682fa17ddbd\",view:p},{cmsRequest:{contentSlug:\"{{$route.params.slug}}\",schemaKey:\"BaMRL3yk\"},head:{meta:{description:\"{{zazPCph9}} \",\"og:image\":\"{{libGscbZ}}\",robots:aD},title:\"{{title}} ｜code4biz apparel\"},heightExtension:300,id:\"demo\\u002Fapparel\\u002F:slug\",name:\"（デモ）アパレル商品詳細\",statusBar:b,type:ae,uuid:\"10fdc675-6963-464c-831e-099affdc4b05\",view:p},{heightExtension:E,id:\"menu\",name:\"Menu\",responsive:R,statusBar:b,type:\"modal\",uuid:\"34ac83df-b080-483a-9fc8-9235fb0ccb3b\",view:p}],resources:{rssList:[],apiList:[],cmsProjectId:\"feSZIduk08hrllnrU8yE\"},symbols:[{defaultSize:{height:289.5715090041729,width:1279.9841370050653},name:\"CTA\",uuid:\"da08cf8a-28f3-43b1-aab3-016f71821541\",view:{children:[{children:[{content:{data:\"\\u003Cp data-uid=\\\"9jg2ye0q\\\" data-time=\\\"\\\"\\u003Eまずは、\\u003Cstrong\\u003E無料\\u003C\\u002Fstrong\\u003Eの\\u003Cstrong\\u003E説明会\\u003C\\u002Fstrong\\u003Eから\\u003C\\u002Fp\\u003E\",type:H},name:I,style:{color:F,flex:d,fontFamily:f,fontSize:w,fontWeight:g,height:c,letterSpacing:J,lineHeight:h,margin:i,p:{\"@mobile\":{fontSize:aE},fontSize:l,margin:i},padding:K,strong:{\"@mobile\":{fontSize:W},fontSize:\"36px\",padding:aF},textAlign:a,width:c},tagName:b,uuid:\"d2976309-d50e-4030-beb8-6adeaa1c0d3f\"}],name:x,style:{alignContent:a,alignItems:a,background:Z,borderRadius:\"4px\",flexDirection:k,flexWrap:e,justifyContent:a,margin:\"-26px 24px 0px\",padding:\"8px 24px 8px\",zIndex:q},tagName:y,uuid:\"2da758e1-2630-4da0-83b4-531c95058304\"},{children:[{content:{data:\"\\u003Cp data-uid=\\\"9jg2ye0q\\\" data-time=\\\"\\\"\\u003E\\u003Cstrong\\u003E5\\u003C\\u002Fstrong\\u003E万円OFFキャンペーン実施中\\u003C\\u002Fp\\u003E\",type:H},name:I,style:{color:F,flex:d,fontFamily:f,fontSize:w,fontWeight:g,height:c,letterSpacing:J,lineHeight:h,margin:i,p:{\"@mobile\":{fontSize:aG},fontSize:W,margin:i},padding:K,strong:{fontSize:\"48px\",padding:aF},textAlign:a,width:c},tagName:b,uuid:\"7d3357d6-1d8d-48a2-b3fb-615a57d6e221\"},{children:[{content:{data:\"プログラミングを習得して\",type:m},name:n,style:{\"@mobile\":{fontSize:L},color:F,fontFamily:f,fontSize:w,fontWeight:g,height:c,letterSpacing:o,lineHeight:h,margin:M,textAlign:a,width:c},tagName:b,uuid:\"834da038-b052-48c8-872e-84d7d6a8213b\"},{content:{data:\"“できる”を増やしませんか？\",type:m},name:n,style:{\"@mobile\":{fontSize:L},color:F,fontFamily:f,fontSize:w,fontWeight:g,height:c,letterSpacing:o,lineHeight:h,margin:M,textAlign:a,width:c},tagName:b,uuid:\"307ff7e9-97f0-4b51-a205-00a592a1a36b\"}],name:x,style:{alignContent:N,alignItems:N,flexDirection:O,flexWrap:\"wrap\",justifyContent:a,margin:\"8px 0px 0px 0px\",padding:u},tagName:y,uuid:\"4a0942dd-a65f-4eb1-880f-acc9f0a9c165\"},{children:[{children:[{content:{data:\"\\\\ LINEで簡単申し込み \\u002F\",type:m},name:n,style:{color:z,fontFamily:f,fontSize:L,fontWeight:g,height:c,letterSpacing:J,lineHeight:h,margin:i,textAlign:af,width:c},tagName:b,uuid:\"56455325-6b38-4cf9-83e6-b7b72d5c4941\"},{content:{data:\"\\u003Cp data-uid=\\\"sNYnOgDQ\\\" data-time=\\\"\\\"\\u003E\\u003Cstrong\\u003E今すぐ無料説明会\\u003C\\u002Fstrong\\u003Eに\\u003Cstrong\\u003E参加する\\u003C\\u002Fstrong\\u003E\\u003C\\u002Fp\\u003E\",type:H},name:I,style:{color:z,flex:q,fontFamily:f,fontSize:l,fontWeight:g,h1:{margin:i},height:c,letterSpacing:o,lineHeight:h,margin:M,p:{margin:i},padding:K,strong:{fontSize:W},textAlign:a,width:c},tagName:b,uuid:\"f5cdf4c4-2ec3-4fa9-ab65-c7431dd5424d\"}],name:x,style:{alignContent:a,alignItems:a,flex:q,flexDirection:k,flexWrap:e,justifyContent:a,padding:aH,width:c},tagName:y,uuid:\"7d4608ec-ef4d-4930-af60-0c5f5e420394\"},{children:[{content:{data:ag,type:ah},name:ai,style:{color:r,fontSize:aj},tagName:b,uuid:\"ea8b61de-a018-435c-9fc9-178cf46ef579\"}],name:s,style:{alignContent:a,alignItems:a,background:S,flex:d,flexDirection:k,flexWrap:e,height:A,justifyContent:a,width:ak},tagName:b,uuid:\"4335696e-c60e-4bf1-883e-10cd40304be5\"}],name:s,refId:aI,style:{\"&appear\":{opacity:X,transform:aJ},\":hover\":{boxShadow:d,transform:aK},alignContent:a,alignItems:a,background:G,borderRadius:aL,boxShadow:aM,flex:d,flexDirection:O,flexWrap:e,height:aN,justifyContent:N,margin:aO,overflowX:B,overflowY:B,transitionDelay:aP,transitionDuration:aQ,transitionTimingFunction:aR,width:aS},tagName:b,type:\"ref\",uuid:\"4a216394-b037-4d96-896a-343f668bf673\"}],name:s,style:{\"@mobile\":{padding:\"16px 16px 32px\"},alignContent:a,alignItems:a,background:am,flex:d,flexDirection:k,flexWrap:e,height:A,justifyContent:\"flex-start\",padding:\"24px 32px 40px\",width:\"1200px\",zIndex:q},tagName:b,uuid:\"91f38119-8eb5-4850-9cbd-abb6ef6cb73c\"},{content:{src:\"https:\\u002F\\u002Fstorage.googleapis.com\\u002Fstudio-design-asset-files\\u002Fprojects\\u002FM3aAB6kMWe\\u002Fs-1330x694_8fc31658-966d-44eb-9a97-2a80c2cc1ba7.svg\",type:\"image\"},name:\"Image\",style:{bottom:u,height:c,left:u,margin:\"0 0 0 0\",opacity:\"0.3\",position:\"absolute\",right:u,top:u,width:c,zIndex:X},tagName:b,uuid:\"d85dad4f-79e2-4000-8474-c396576cdbef\"}],name:s,style:{alignContent:a,alignItems:a,background:an,flex:d,flexDirection:k,flexWrap:e,height:c,justifyContent:a,width:A},tagName:\"section\",type:Y,uuid:\"72192289-7959-455e-8ec9-ef25a4d4f519\"}},{defaultSize:{height:89.99889670892975,width:476.00745368975464},name:\"CTAボタン\",uuid:aI,view:{attrs:{target:aT},children:[{children:[{content:{data:aU,type:m},name:n,style:{\"@mobile\":{fontSize:aV},color:z,fontFamily:f,fontSize:L,fontWeight:g,height:c,letterSpacing:J,lineHeight:h,margin:i,textAlign:af,width:c},tagName:b,uuid:\"4029514a-c50d-4ded-be76-49d488f6d931\"},{content:{data:\"\\u003Cp data-uid=\\\"y51I7vFH\\\" data-time=\\\"\\\"\\u003E\\u003Cstrong\\u003E第2期開講お知らせ\\u003C\\u002Fstrong\\u003Eを\\u003Cstrong\\u003E受け取る\\u003C\\u002Fstrong\\u003E\\u003C\\u002Fp\\u003E\",type:H},name:I,style:{\"@mobile\":{fontSize:aV},color:z,flex:q,fontFamily:f,fontSize:l,fontWeight:g,h1:{margin:i},height:c,letterSpacing:o,lineHeight:h,margin:M,p:{margin:i},padding:K,strong:{\"@mobile\":{fontSize:l},\"@tablet\":{fontSize:w},fontSize:W},textAlign:a,width:c},tagName:b,uuid:\"d72ef661-9019-4931-97a3-87e639b186e3\"}],name:x,style:{alignContent:a,alignItems:a,flex:q,flexDirection:k,flexWrap:e,justifyContent:a,padding:aH,width:c},tagName:y,uuid:\"d9700dac-0bff-4ce5-bf87-5a480b0efebd\"},{children:[{content:{data:ag,type:ah},name:ai,style:{\"@mobile\":{fontSize:aG},color:r,fontSize:aj},tagName:b,uuid:\"4d21a70c-05a1-492a-93c5-c204c5e1a66a\"}],name:s,style:{\"@mobile\":{width:\"47px\"},\"@tablet\":{flexDirection:k,flexWrap:e},alignContent:a,alignItems:a,background:S,flex:d,flexDirection:k,flexWrap:e,height:A,justifyContent:a,width:ak},tagName:b,uuid:\"e44c3bce-0daf-4f0c-998a-f2d4b07112c8\"}],content:{href:aW},name:s,style:{\"&appear\":{opacity:X,transform:aJ,transitionDelay:aP},\":hover\":{boxShadow:d,transform:aK},\"@mobile\":{flex:d,height:ak,margin:C},\"@tablet\":{flex:d,height:\"80px\",width:\"418px\"},alignContent:a,alignItems:a,background:G,borderRadius:aL,boxShadow:aM,flex:d,flexDirection:O,flexWrap:e,height:aN,justifyContent:N,margin:aO,overflowX:B,overflowY:B,transitionDelay:\"0ms\",transitionDuration:aQ,transitionTimingFunction:aR,width:aS},tagName:b,type:Y,uuid:\"48f5507e-792f-4a4a-a4c4-29dc532532ca\"}},{defaultSize:{height:70.00587896656141,width:270.0029699255007},name:\"Navボタン\",uuid:\"90121aba-55aa-43e2-89cb-e14c8ac1dc63\",view:{attrs:{target:aT},children:[{children:[{content:{data:aU,type:m},name:n,style:{\"@mobile\":{fontSize:aX},color:z,fontFamily:f,fontSize:\"11px\",fontWeight:g,height:c,letterSpacing:J,lineHeight:h,margin:i,textAlign:af,width:c},tagName:b,uuid:\"d9bc093e-67a2-49cd-8a27-5fd59a8f51b1\"},{content:{data:\"\\u003Cp data-uid=\\\"Xm96ud14\\\" data-time=\\\"\\\"\\u003E\\u003Cstrong\\u003E第2期開講お知らせ\\u003C\\u002Fstrong\\u003E\\u003C\\u002Fp\\u003E\\u003Cp data-uid=\\\"Xcbr2VrR\\\" data-time=\\\"\\\"\\u003Eを受け取る\\u003C\\u002Fp\\u003E\",type:H},name:I,style:{\"@mobile\":{fontSize:aX},color:z,flex:q,fontFamily:f,fontSize:aY,fontWeight:g,h1:{margin:i},height:c,letterSpacing:o,lineHeight:h,margin:M,p:{\"@mobile\":{fontSize:aY},margin:i},padding:K,strong:{\"@mobile\":{fontSize:L},fontSize:l},textAlign:a,width:c},tagName:b,uuid:\"afd636f4-d1e0-44e9-bbd6-652a2b347a9f\"}],name:x,style:{alignContent:a,alignItems:a,flex:q,flexDirection:k,flexWrap:e,justifyContent:a,padding:u,width:c},tagName:y,uuid:\"b66f11f6-f62d-4893-af4d-41324db64d96\"},{children:[{content:{data:ag,type:ah},name:ai,style:{\"@mobile\":{fontSize:aE},color:r,fontSize:w},tagName:b,uuid:\"3df220cc-9727-4f56-a071-e08fd583318b\"}],name:s,style:{\"@mobile\":{justifyContent:a,width:aj},alignContent:a,alignItems:a,background:S,flex:d,flexDirection:k,flexWrap:e,height:A,\"in:hover\":{background:G},justifyContent:a,width:\"52px\"},tagName:b,uuid:\"99a80d0c-103d-4865-b6a0-c82e56f9d736\"}],content:{href:aW},name:s,style:{\":hover\":{background:\"#fffb87\",transform:b},\"@mobile\":{display:D,flex:d,width:\"240px\"},\"@small\":{display:D},\"@tablet\":{display:D,flex:d,width:\"310px\"},alignContent:a,alignItems:a,background:G,borderRadius:X,boxShadow:d,flex:d,flexDirection:O,flexWrap:e,height:A,justifyContent:N,margin:i,overflowX:B,overflowY:B,width:\"270px\"},tagName:b,type:Y,uuid:\"34d5795a-b5b0-4494-ada1-833da9dac1f6\"}},{defaultSize:{height:22.400235994411016,width:596.3141833642716},name:\"Nav\",uuid:\"bfeeb2ad-d37c-4061-b07e-26c9dd64dd5b\",view:{children:[{action:{type:P,val:\"\\u002F#feature\"},content:{data:\"code4bizの特徴\",type:m},name:n,style:{\":hover\":{color:v},\"@small\":{margin:C},color:r,fontFamily:f,fontSize:l,fontWeight:g,height:c,letterSpacing:o,lineHeight:h,margin:Q,textAlign:a,width:c},tagName:b,uuid:\"24caa8d0-6e55-4314-ad32-ec63a5ac8c60\"},{action:{type:P,val:\"\\u002F#who\"},content:{data:\"いまにゅとは\",type:m},name:n,style:{\":hover\":{color:v},\"@small\":{margin:C},color:r,fontFamily:f,fontSize:l,fontWeight:g,height:c,letterSpacing:o,lineHeight:h,margin:Q,textAlign:a,width:c},tagName:b,uuid:\"68e1d1b1-0af8-403a-84ab-762de554a4f2\"},{action:{type:P,val:\"\\u002F#voice\"},content:{data:\"受講者の声\",type:m},name:n,style:{\":hover\":{color:v},\"@small\":{margin:C},color:r,fontFamily:f,fontSize:l,fontWeight:g,height:c,letterSpacing:o,lineHeight:h,margin:Q,textAlign:a,width:c},tagName:b,uuid:\"2197142e-0921-478f-93fe-5cbd49c0f824\"},{action:{type:P,val:\"\\u002F#course\"},content:{data:\"講座内容\",type:m},name:n,style:{\":hover\":{color:v},\"@small\":{margin:C},color:r,fontFamily:f,fontSize:l,fontWeight:g,height:c,letterSpacing:o,lineHeight:h,margin:Q,textAlign:a,width:c},tagName:b,uuid:\"fd72f9b2-82bc-4165-88e9-8feeba52e2f1\"},{action:{type:P,val:\"\\u002F#faq\"},content:{data:\"よくある質問\",type:m},name:n,style:{\":hover\":{color:v},\"@small\":{margin:C},color:r,fontFamily:f,fontSize:l,fontWeight:g,height:c,letterSpacing:o,lineHeight:h,margin:Q,textAlign:a,width:c},tagName:b,uuid:\"cb2c7666-6375-4478-a1bc-c4d5ce790d5f\"}],name:x,style:{\"@mobile\":{display:D},\"@small\":{display:D,flexDirection:k,flexWrap:e},\"@tablet\":{display:D,flexDirection:k,flexWrap:e},alignContent:a,alignItems:a,flexDirection:O,flexWrap:e,justifyContent:a,padding:u},tagName:y,type:Y,uuid:\"3388f108-9560-408e-8dc5-a5b0e0f0b801\"}}],style:{fontFamily:[]},styleVars:aZ},isLoaded:R,selectedModalIds:[],redirectPage:p,isInitializedRSS:t},project:{project:{id:\"M3aAB6kMWe\",name:\"code4biz LP\",type:aB,customDomain:b,iconImage:b,coverImage:\"https:\\u002F\\u002Fstorage.googleapis.com\\u002Fproduction-os-assets\\u002Fassets\\u002F98681e64-934d-4e7b-8a50-54b6b658c20e\",displayBadge:t,integrations:[{integration_name:\"facebook-pixel\",code:\"1144797242945776\"},{integration_name:\"google-analytics\",code:\"UA-220438172-1\"},{integration_name:\"google-tag-manager\",code:\"GTM-W4B5QZT\"},{integration_name:_,code:\"unused\"}],snapshot_path:\"https:\\u002F\\u002Fstorage.googleapis.com\\u002Fstudio-publish\\u002Fprojects\\u002FM3aAB6kMWe\\u002FQqJD5dwXWg\\u002F\",recaptchaSiteKey:aZ}},typesquare:{text:{}}},serverRendered:R,routePath:\"\\u002Fdemo\\u002Fapparel\",config:{_app:{basePath:aC,assetsPath:\"\\u002F_nuxt\\u002F\",cdnURL:p}},globalRefs:{}}}(\"center\",\"\",\"auto\",\"none\",\"nowrap\",\"'見出ゴMB31 JIS2004'\",400,\"1.4\",\"0px 0px 0px 0px\",\"color\",\"column\",\"16px\",\"text\",\"Text\",\"0.05em\",null,\"1\",\"#333\",\"Box\",false,\"0px\",\"#ffa600\",\"20px\",\"\\u003Cgroup\\u003E\",\"div\",\"#000000\",\"100%\",\"hidden\",\"24px 0px 0px 0px\",\"flex\",0,\"#FFFFFF\",\"#fff600\",\"richText\",\"RichText\",\"0.1em\",\"0px 0px 0px\",\"15px\",\"4px 0px 0px 0px\",\"flex-end\",\"row\",\"link\",\"0px 24px 0px 0px\",true,\"#f8df00\",\"latin\",\"regular\",\"google\",\"24px\",\"0\",\"component\",\"#03ae85\",\"typesquare\",\"latin-ext\",\"300\",\"500\",\"700\",1280,\"page\",\"left\",\"play_arrow\",\"icon\",\"Icon\",\"32px\",\"70px\",\"code4biz.jp\",\"rgba(0,0,0,0.0)\",\"linear-gradient(45deg, #ff730f 14%, #ffb801)\",\"100\",\"100italic\",\"200\",\"300italic\",\"italic\",\"500italic\",\"600\",\"700italic\",\"900\",\"900italic\",\"cyrillic\",\"cyrillic-ext\",\"vietnamese\",\"web\",\"\\u002F\",\"noindex\",\"14px\",\"0px 0px 4px 0px\",\"18px\",\"0px 24px 0px\",\"7396e290-d5cb-40ce-a9f9-0c9d2e5163a0\",\"translate(0px, 16px)\",\"translate(0px, 8px)\",\"8px\",\"0px 8px 16px rgba(0,0,0,0.2)\",\"90px\",\"32px 0px 0px 0px\",\"200ms\",\"400ms\",\"cubic-bezier(0.19, 1, 0.22, 1)\",\"476px\",\"_blank\",\"\\\\ 第1期 満員御礼 \\u002F\",\"13px\",\"https:\\u002F\\u002Fliff.line.me\\u002F1656888441-QXlDDyzg\\u002Flanding?follow=%40114eqgxg&lp=zToLbu&liff_id=1656888441-QXlDDyzg\",\"10px\",\"12px\",void 0));</script><script defer=\"\" src=\"/_nuxt/4bcff0a.js\"></script><script defer=\"\" src=\"/_nuxt/158aa87.js\"></script><script defer=\"\" src=\"/_nuxt/c7c2481.js\"></script><script defer=\"\" src=\"/_nuxt/207fdfa.js\"></script><noscript data-body=\"true\" data-n-head=\"ssr\" id=\"facebook-pixel\">&lt;img height=\"1\" width=\"1\" style=\"display:none\" src=\"https://www.facebook.com/tr?id=1144797242945776&amp;ev=PageView&amp;noscript=1\"/&gt;</noscript><noscript data-body=\"true\" data-n-head=\"ssr\" id=\"noscripts-google-tag-manager\">&lt;iframe src=\"https://www.googletagmanager.com/ns.html?id=GTM-W4B5QZT\" height=\"0\" width=\"0\" style=\"display:none;visibility:hidden\"&gt;&lt;/iframe&gt;</noscript>\n",
       "</body>\n",
       "</html>"
      ]
     },
     "execution_count": 6,
     "metadata": {},
     "output_type": "execute_result"
    }
   ],
   "source": [
    "soup = BeautifulSoup(res.text, 'html.parser')\n",
    "soup"
   ]
  },
  {
   "cell_type": "code",
   "execution_count": 9,
   "id": "dd6643c2-516d-4bba-967e-5575a99bf2b0",
   "metadata": {},
   "outputs": [
    {
     "data": {
      "text/plain": [
       "[]"
      ]
     },
     "execution_count": 11,
     "metadata": {},
     "output_type": "execute_result"
    }
   ],
   "source": [
    "soup.select('#__layout > div > div.StudioCanvas > div.sd > main > section:nth-child(2) > div > div')"
   ]
  },
  {
   "cell_type": "code",
   "execution_count": 12,
   "id": "613b7a10-1717-433d-a83e-c04fd769a778",
   "metadata": {},
   "outputs": [],
   "source": [
    "soup.find(class_='sd')"
   ]
  },
  {
   "cell_type": "code",
   "execution_count": 6,
   "id": "5bde6c8e-4953-4714-a15b-7fdd2bb1096c",
   "metadata": {},
   "outputs": [
    {
     "name": "stderr",
     "output_type": "stream",
     "text": [
      "\n",
      "\n",
      "====== WebDriver manager ======\n",
      "Current google-chrome version is 100.0.4896\n",
      "Get LATEST chromedriver version for 100.0.4896 google-chrome\n",
      "Driver [/Users/wataru/.wdm/drivers/chromedriver/mac64/100.0.4896.60/chromedriver] found in cache\n"
     ]
    }
   ],
   "source": [
    "service = Service(ChromeDriverManager().install())\n",
    "driver = webdriver.Chrome(service=service)"
   ]
  },
  {
   "cell_type": "code",
   "execution_count": 5,
   "id": "c5d369d0-03be-40b0-8eae-d6944dd801e8",
   "metadata": {},
   "outputs": [],
   "source": [
    "# driver.quit()"
   ]
  },
  {
   "cell_type": "code",
   "execution_count": 7,
   "id": "54251769-4b25-4686-9d89-51ca26c489a8",
   "metadata": {},
   "outputs": [],
   "source": [
    "url = 'https://code4biz.jp/demo/apparel'\n",
    "driver.get(url)"
   ]
  },
  {
   "cell_type": "code",
   "execution_count": 36,
   "id": "06384940-8e2c-4a49-ab3f-cf0c15563ac8",
   "metadata": {},
   "outputs": [],
   "source": [
    "div_elem = driver.find_element(by=By.CSS_SELECTOR, value='#__layout > div > div.StudioCanvas > div.sd > main > section:nth-child(2) > div > div')"
   ]
  },
  {
   "cell_type": "code",
   "execution_count": 37,
   "id": "080035e8-c86a-488e-b8a1-09d3a2ebb769",
   "metadata": {},
   "outputs": [],
   "source": [
    "items = div_elem.find_elements(by=By.TAG_NAME, value='a')"
   ]
  },
  {
   "cell_type": "code",
   "execution_count": 38,
   "id": "80953570-8651-4ef6-953e-778d39f67f88",
   "metadata": {},
   "outputs": [],
   "source": [
    "item = items[0]"
   ]
  },
  {
   "cell_type": "code",
   "execution_count": 39,
   "id": "58ce11d9-d8e9-4d0e-81bd-9143b2cb594e",
   "metadata": {},
   "outputs": [],
   "source": [
    "item_link = item.get_attribute('href')"
   ]
  },
  {
   "cell_type": "code",
   "execution_count": 40,
   "id": "eba630c4-a280-4f79-9812-7bc01961185c",
   "metadata": {},
   "outputs": [
    {
     "data": {
      "text/plain": [
       "'https://code4biz.jp/demo/apparel/wY5PpVz6'"
      ]
     },
     "execution_count": 40,
     "metadata": {},
     "output_type": "execute_result"
    }
   ],
   "source": [
    "item_link"
   ]
  },
  {
   "cell_type": "code",
   "execution_count": 41,
   "id": "1d7a5e78-180a-488c-872a-8de2203deb93",
   "metadata": {},
   "outputs": [],
   "source": [
    "driver.get(item_link)"
   ]
  },
  {
   "cell_type": "code",
   "execution_count": 43,
   "id": "1c5ce6dc-c502-46f8-97ef-41ad046f9afe",
   "metadata": {},
   "outputs": [],
   "source": [
    "elem_detail = driver.find_element(by=By.CSS_SELECTOR, value='#__layout > div > div.StudioCanvas > div.sd > main > div > div:nth-child(2)')"
   ]
  },
  {
   "cell_type": "code",
   "execution_count": 177,
   "id": "70e61c2f-a353-4a09-8d21-45ffead6c9b0",
   "metadata": {},
   "outputs": [],
   "source": [
    "title = elem_detail.find_element(by=By.TAG_NAME, value='h1').text\n",
    "_price = elem_detail.find_elements(by=By.TAG_NAME, value='p')[0].text\n",
    "\n",
    "# 数値型にするときはintで括る\n",
    "price = int(_price.replace('¥','').replace(',',''))\n",
    "elems_detail_li = elem_detail.find_element(by=By.TAG_NAME, value='ul').find_elements(by=By. TAG_NAME, value='li')\n",
    "goods_num = int(elems_detail_li[1].find_elements(by=By. TAG_NAME, value='p')[-1].text)\n",
    "color = elems_detail_li[2].find_elements(by=By. TAG_NAME, value='p')[-1].text\n",
    "category = elems_detail_li[3].find_elements(by=By. TAG_NAME, value='p')[-1].text\n",
    "description = elem_detail.find_elements(by=By.TAG_NAME, value='p')[-1].text\n",
    "stock_check = elem_detail.find_elements(by=By.TAG_NAME, value='p')[2].text \n",
    "is_stock = True if stock_check == 'カートに入れる' else False"
   ]
  },
  {
   "cell_type": "code",
   "execution_count": 178,
   "id": "c9002a93-f78e-4633-8ced-df9a20b00d7a",
   "metadata": {},
   "outputs": [],
   "source": [
    "description = elem_detail.find_elements(by=By.TAG_NAME, value='p')[-1].text"
   ]
  },
  {
   "cell_type": "code",
   "execution_count": 179,
   "id": "2a9f80fb-8597-452c-94c5-5d51a73aa441",
   "metadata": {},
   "outputs": [],
   "source": [
    "is_stock = True if stock_check == 'カートに入れる' else False"
   ]
  },
  {
   "cell_type": "code",
   "execution_count": 181,
   "id": "6c6ab00a-c964-4f36-8153-12b6b433309c",
   "metadata": {},
   "outputs": [],
   "source": [
    "datum = {\n",
    "    'title':title,\n",
    "    'price':price,\n",
    "    'goods_num':goods_num,\n",
    "    'color':color,\n",
    "    'category':category,\n",
    "    'description':description,\n",
    "    'stock':is_stock\n",
    "}"
   ]
  },
  {
   "cell_type": "code",
   "execution_count": 182,
   "id": "d5534909-3cf7-4d0f-914e-08924dfb11a2",
   "metadata": {},
   "outputs": [
    {
     "data": {
      "text/plain": [
       "{'title': 'クルーネックスウェット',\n",
       " 'price': 4290,\n",
       " 'goods_num': 2325,\n",
       " 'color': 'ホワイト',\n",
       " 'category': 'スウェット',\n",
       " 'description': 'code4bizオリジナルのクルーネックスウェットです。これ着るとめっちゃコーディング捗るって噂...',\n",
       " 'stock': True}"
      ]
     },
     "execution_count": 182,
     "metadata": {},
     "output_type": "execute_result"
    }
   ],
   "source": [
    "datum"
   ]
  },
  {
   "cell_type": "code",
   "execution_count": null,
   "id": "19a7ff45-0cbb-4a98-ba7f-b3b25966260c",
   "metadata": {},
   "outputs": [],
   "source": []
  }
 ],
 "metadata": {
  "kernelspec": {
   "display_name": "Python 3 (ipykernel)",
   "language": "python",
   "name": "python3"
  },
  "language_info": {
   "codemirror_mode": {
    "name": "ipython",
    "version": 3
   },
   "file_extension": ".py",
   "mimetype": "text/x-python",
   "name": "python",
   "nbconvert_exporter": "python",
   "pygments_lexer": "ipython3",
   "version": "3.9.12"
  }
 },
 "nbformat": 4,
 "nbformat_minor": 5
}
