{
 "cells": [
  {
   "cell_type": "code",
   "execution_count": 2,
   "id": "ad3eca08-e813-492d-ae78-6eafbd29a655",
   "metadata": {
    "collapsed": true,
    "jupyter": {
     "outputs_hidden": true
    },
    "tags": []
   },
   "outputs": [
    {
     "name": "stdout",
     "output_type": "stream",
     "text": [
      "\u001b[33mDEPRECATION: Configuring installation scheme with distutils config files is deprecated and will no longer work in the near future. If you are using a Homebrew or Linuxbrew Python, please see discussion at https://github.com/Homebrew/homebrew-core/issues/76621\u001b[0m\u001b[33m\n",
      "\u001b[0mRequirement already satisfied: beautifulsoup4 in /usr/local/lib/python3.9/site-packages (4.10.0)\n",
      "Requirement already satisfied: soupsieve>1.2 in /usr/local/lib/python3.9/site-packages (from beautifulsoup4) (2.3.1)\n",
      "\u001b[33mDEPRECATION: Configuring installation scheme with distutils config files is deprecated and will no longer work in the near future. If you are using a Homebrew or Linuxbrew Python, please see discussion at https://github.com/Homebrew/homebrew-core/issues/76621\u001b[0m\u001b[33m\n",
      "\u001b[0m"
     ]
    }
   ],
   "source": [
    "!pip3 install beautifulsoup4"
   ]
  },
  {
   "cell_type": "code",
   "execution_count": 3,
   "id": "64d1cfd6-9a87-4304-8031-74c259749afe",
   "metadata": {},
   "outputs": [],
   "source": [
    "from bs4 import BeautifulSoup\n",
    "import requests"
   ]
  },
  {
   "cell_type": "code",
   "execution_count": 4,
   "id": "e750df2f-44d0-460a-bdb3-3188b556f175",
   "metadata": {},
   "outputs": [],
   "source": [
    "url = 'https://scraping-for-beginner.herokuapp.com/udemy'"
   ]
  },
  {
   "cell_type": "code",
   "execution_count": 13,
   "id": "7eade2d0-92a4-4294-8bf0-431a1b17633e",
   "metadata": {},
   "outputs": [],
   "source": [
    "res = requests.get(url)"
   ]
  },
  {
   "cell_type": "code",
   "execution_count": 15,
   "id": "f7b3a814-1994-4c2e-b700-a693505d0373",
   "metadata": {},
   "outputs": [],
   "source": [
    "soup = BeautifulSoup(res.text, 'html.parser')"
   ]
  },
  {
   "cell_type": "code",
   "execution_count": 16,
   "id": "88dabafa-0c87-46df-89d6-236dfd814f2a",
   "metadata": {},
   "outputs": [
    {
     "data": {
      "text/plain": [
       "<!DOCTYPE html>\n",
       "\n",
       "<html dir=\"ltr\" lang=\"en\">\n",
       "<head>\n",
       "<meta charset=\"utf-8\"/>\n",
       "<title>Webスクレイピング入門者のためのサイト</title>\n",
       "<!-- Compiled and minified CSS -->\n",
       "<link href=\"https://cdnjs.cloudflare.com/ajax/libs/materialize/1.0.0-rc.2/css/materialize.min.css\" rel=\"stylesheet\"/>\n",
       "<link href=\"https://fonts.googleapis.com/icon?family=Material+Icons\" rel=\"stylesheet\"/> \b\n",
       "  <link href=\"static/assets/css/style.css\" rel=\"stylesheet\"/>\n",
       "<link href=\"static/assets/css/udemy.css\" rel=\"stylesheet\"/>\n",
       "<!-- <link rel=\"stylesheet\" href=\"static/assets/css/mypage.css\"> -->\n",
       "</head>\n",
       "<body>\n",
       "<!-- Navbar -->\n",
       "<div class=\"navbar-fixed\">\n",
       "<!-- Dropdown Structure -->\n",
       "<nav class=\"\">\n",
       "<div class=\"nav-wrapper row\">\n",
       "<div class=\"col s5 l4 offset-s1 offset-l1\">\n",
       "<a class=\"brand-logo\" href=\"\b/\">Webスクレイピング入門</a>\n",
       "</div>\n",
       "<div class=\"col s5 l6\">\n",
       "<ul class=\"right hide-on-med-and-down\" id=\"nav-mobile\">\n",
       "<li><a class=\"\" href=\"\b/login_page\">ログイン</a></li>\n",
       "<li><a class=\"\" href=\"/ranking/\">ランキング</a></li>\n",
       "<li><a class=\"\" href=\"/image\">画像</a></li>\n",
       "<li><a class=\"\" href=\"/udemy\">Udemy</a></li>\n",
       "<li><a class=\"\" href=\"https://scraping-for-beginner.readthedocs.io/\" target=\"”_blank”\">サンプルコード</a></li>\n",
       "</ul>\n",
       "</div>\n",
       "</div>\n",
       "</nav>\n",
       "</div>\n",
       "<div class=\"row\">\n",
       "<div class=\"col s4 offset-s4\">\n",
       "<div class=\"overview\">\n",
       "<p>\n",
       "      こちらのページは、<b>PythonによるWebスクレイピング〜Webアプリケーション編〜</b>で使用します。\n",
       "      </p>\n",
       "</div>\n",
       "<div class=\"\">\n",
       "<div class=\"\">\n",
       "<div class=\"card\">\n",
       "<div class=\"card-image\">\n",
       "<img src=\"/static/assets/img/imanyu.png\"/>\n",
       "<span class=\"card-title\" style=\"color: black; background-color: white;\">いまにゅ</span>\n",
       "</div>\n",
       "<div class=\"card-content\">\n",
       "<p><b><p class=\"position\">いまにゅのプログラミング塾｜code4biz 代表</p></b><br/>\n",
       "\n",
       "            『プログラミング×〇〇』でビジネス戦闘力を向上させる｜東京理科大出身｜元東北大学 非常勤講師｜東進デジタルユニバーシティ最年少講師｜AI教育系ベンチャー（キカガク）取締役 → 今｜Udemy受講生3.3万人｜YouTubeチャンネル登録者10.5万人｜プログラミング初学者に欠かせない学習法等を発信<br/>\n",
       "</p>\n",
       "</div>\n",
       "<div class=\"card-action\">\n",
       "<p class=\"subscribers\">受講生の数：16087</p>\n",
       "<p class=\"reviews\">レビューの数：2769</p>\n",
       "</div>\n",
       "</div>\n",
       "</div>\n",
       "</div>\n",
       "</div>\n",
       "</div>\n",
       "<!-- Compiled and minified JavaScript -->\n",
       "<script src=\"https://code.jquery.com/jquery-3.3.1.min.js\"></script>\n",
       "<script src=\"https://cdnjs.cloudflare.com/ajax/libs/materialize/1.0.0-rc.2/js/materialize.min.js\"></script>\n",
       "<script type=\"text/javascript\">\n",
       "    $(document).ready(function() {\n",
       "      $(\".dropdown-trigger\").dropdown();\n",
       "    });\n",
       "  </script>\n",
       "</body>\n",
       "</html>"
      ]
     },
     "execution_count": 16,
     "metadata": {},
     "output_type": "execute_result"
    }
   ],
   "source": [
    "soup"
   ]
  },
  {
   "cell_type": "code",
   "execution_count": 27,
   "id": "8943e138-bd73-4598-8618-1fee0601a589",
   "metadata": {},
   "outputs": [
    {
     "ename": "SyntaxError",
     "evalue": "illegal target for annotation (1700806958.py, line 1)",
     "output_type": "error",
     "traceback": [
      "\u001b[0;36m  Input \u001b[0;32mIn [27]\u001b[0;36m\u001b[0m\n\u001b[0;31m    body > div.row > div > div:nth-child(2) > div > div > div.card-image > span\u001b[0m\n\u001b[0m    ^\u001b[0m\n\u001b[0;31mSyntaxError\u001b[0m\u001b[0;31m:\u001b[0m illegal target for annotation\n"
     ]
    }
   ],
   "source": [
    "body > div.row > div > div:nth-child(2) > div > div > div.card-image > span"
   ]
  },
  {
   "cell_type": "code",
   "execution_count": 30,
   "id": "beb34864-8eb9-49bd-9f2c-35c2364aa51a",
   "metadata": {},
   "outputs": [
    {
     "data": {
      "text/plain": [
       "<span class=\"card-title\" style=\"color: black; background-color: white;\">いまにゅ</span>"
      ]
     },
     "execution_count": 30,
     "metadata": {},
     "output_type": "execute_result"
    }
   ],
   "source": [
    "soup.select('body > div.row > div > div:nth-child(2) > div > div > div.card-image > span')[0].text\n",
    "soup.select_one('body > div.row > div > div:nth-child(2) > div > div > div.card-image > span')\n",
    "# selectだと複数取得するのでリストで返ってくる\n",
    "# 一つの要素を取得したい場合はselect_one\n",
    "# cssセレクタで指定するときによくつかう"
   ]
  },
  {
   "cell_type": "code",
   "execution_count": 39,
   "id": "5993e9c1-656f-4323-8247-70479ce36750",
   "metadata": {},
   "outputs": [
    {
     "data": {
      "text/plain": [
       "'いまにゅ'"
      ]
     },
     "execution_count": 39,
     "metadata": {},
     "output_type": "execute_result"
    }
   ],
   "source": [
    "soup.find(class_='card-title').text\n",
    "soup.find_all(class_='card-title')[0].text\n",
    "# class　や　id を指定するときによく使う。 \n",
    "# _all で全部取得する=リストで返ってくるのでインデックス番号を指定する必要がある。"
   ]
  },
  {
   "cell_type": "code",
   "execution_count": 40,
   "id": "e4a6ae47-a6ec-4e20-a3ef-063fd0712f81",
   "metadata": {},
   "outputs": [
    {
     "data": {
      "text/plain": [
       "[]"
      ]
     },
     "execution_count": 40,
     "metadata": {},
     "output_type": "execute_result"
    }
   ],
   "source": [
    "soup.select('body > div.row > div > div:nth-child(2) > div > div > div.card-content > p.position > b')\n",
    "# HTMLの構造によっては、空のリストが返ってくることがある。その場合は一つうえの構造の取得を試みる。"
   ]
  },
  {
   "cell_type": "code",
   "execution_count": 41,
   "id": "fe3bd428-2d86-4aa9-9380-bf2a1a93f873",
   "metadata": {},
   "outputs": [
    {
     "data": {
      "text/plain": [
       "[]"
      ]
     },
     "execution_count": 41,
     "metadata": {},
     "output_type": "execute_result"
    }
   ],
   "source": [
    "soup.select('body > div.row > div > div:nth-child(2) > div > div > div.card-content > p.position')\n"
   ]
  },
  {
   "cell_type": "code",
   "execution_count": 50,
   "id": "c2ad30a8-85c6-4ee6-b7fa-b60ac3a8149c",
   "metadata": {},
   "outputs": [
    {
     "data": {
      "text/plain": [
       "'いまにゅのプログラミング塾｜code4biz 代表'"
      ]
     },
     "execution_count": 50,
     "metadata": {},
     "output_type": "execute_result"
    }
   ],
   "source": [
    "soup.select('body > div.row > div > div:nth-child(2) > div > div > div.card-content > p > b > p')[0].text\n",
    "# 取得した構造から階層を追っていくとうまく取得できる。"
   ]
  },
  {
   "cell_type": "code",
   "execution_count": 57,
   "id": "653557f2-507e-4363-aa08-aed60d8c5441",
   "metadata": {},
   "outputs": [
    {
     "data": {
      "text/plain": [
       "'いまにゅのプログラミング塾｜code4biz 代表'"
      ]
     },
     "execution_count": 57,
     "metadata": {},
     "output_type": "execute_result"
    }
   ],
   "source": [
    "soup.find_all(class_='card-content')[0].find('p').find('p').text\n",
    "# メソッドの入れ子構造\n",
    "# 大枠をとってきてからfindで追っていくほうが汎用的だと思われる。\n",
    "# allでインデックス指定しても追うことができるみたい"
   ]
  },
  {
   "cell_type": "code",
   "execution_count": 60,
   "id": "7ddcb4b7-77b5-4e51-94b2-c1c55610201d",
   "metadata": {},
   "outputs": [
    {
     "data": {
      "text/plain": [
       "<div class=\"card-content\">\n",
       "<p><b><p class=\"position\">いまにゅのプログラミング塾｜code4biz 代表</p></b><br/>\n",
       "\n",
       "            『プログラミング×〇〇』でビジネス戦闘力を向上させる｜東京理科大出身｜元東北大学 非常勤講師｜東進デジタルユニバーシティ最年少講師｜AI教育系ベンチャー（キカガク）取締役 → 今｜Udemy受講生3.3万人｜YouTubeチャンネル登録者10.5万人｜プログラミング初学者に欠かせない学習法等を発信<br/>\n",
       "</p>\n",
       "</div>"
      ]
     },
     "execution_count": 60,
     "metadata": {},
     "output_type": "execute_result"
    }
   ],
   "source": [
    "soup.select('body > div.row > div > div:nth-child(2) > div > div > div.card-content')[0]"
   ]
  },
  {
   "cell_type": "code",
   "execution_count": 61,
   "id": "0dd0fa73-7270-4482-8c25-20a7f8dc6c95",
   "metadata": {},
   "outputs": [
    {
     "data": {
      "text/plain": [
       "<div class=\"card-content\">\n",
       "<p><b><p class=\"position\">いまにゅのプログラミング塾｜code4biz 代表</p></b><br/>\n",
       "\n",
       "            『プログラミング×〇〇』でビジネス戦闘力を向上させる｜東京理科大出身｜元東北大学 非常勤講師｜東進デジタルユニバーシティ最年少講師｜AI教育系ベンチャー（キカガク）取締役 → 今｜Udemy受講生3.3万人｜YouTubeチャンネル登録者10.5万人｜プログラミング初学者に欠かせない学習法等を発信<br/>\n",
       "</p>\n",
       "</div>"
      ]
     },
     "execution_count": 61,
     "metadata": {},
     "output_type": "execute_result"
    }
   ],
   "source": [
    "soup.find(class_='card-content')"
   ]
  },
  {
   "cell_type": "code",
   "execution_count": 67,
   "id": "81dd6ed4-2972-49a6-a9dd-4570c2e4a937",
   "metadata": {},
   "outputs": [
    {
     "data": {
      "text/plain": [
       "<p class=\"position\">いまにゅのプログラミング塾｜code4biz 代表</p>"
      ]
     },
     "execution_count": 67,
     "metadata": {},
     "output_type": "execute_result"
    }
   ],
   "source": [
    "soup.find(class_='card-content').find('p').find('p').extract()\n",
    "# いらない情報を削除する .extract()\n",
    "# 抽出すると削除されたままなので、必要に応じて再度読み込まないといけない。"
   ]
  },
  {
   "cell_type": "code",
   "execution_count": 68,
   "id": "9d0f6e2d-e9da-4acd-a31b-d66362f3c0e0",
   "metadata": {},
   "outputs": [
    {
     "data": {
      "text/plain": [
       "<div class=\"card-content\">\n",
       "<p><b></b><br/>\n",
       "\n",
       "            『プログラミング×〇〇』でビジネス戦闘力を向上させる｜東京理科大出身｜元東北大学 非常勤講師｜東進デジタルユニバーシティ最年少講師｜AI教育系ベンチャー（キカガク）取締役 → 今｜Udemy受講生3.3万人｜YouTubeチャンネル登録者10.5万人｜プログラミング初学者に欠かせない学習法等を発信<br/>\n",
       "</p>\n",
       "</div>"
      ]
     },
     "execution_count": 68,
     "metadata": {},
     "output_type": "execute_result"
    }
   ],
   "source": [
    "soup.find(class_='card-content')"
   ]
  },
  {
   "cell_type": "code",
   "execution_count": 71,
   "id": "ada2cc34-a192-4a43-9359-f039da852a6d",
   "metadata": {},
   "outputs": [
    {
     "data": {
      "text/plain": [
       "<!DOCTYPE html>\n",
       "\n",
       "<html dir=\"ltr\" lang=\"en\">\n",
       "<head>\n",
       "<meta charset=\"utf-8\"/>\n",
       "<title>Webスクレイピング入門者のためのサイト</title>\n",
       "<!-- Compiled and minified CSS -->\n",
       "<link href=\"https://cdnjs.cloudflare.com/ajax/libs/materialize/1.0.0-rc.2/css/materialize.min.css\" rel=\"stylesheet\"/>\n",
       "<link href=\"https://fonts.googleapis.com/icon?family=Material+Icons\" rel=\"stylesheet\"/> \b\n",
       "  <link href=\"static/assets/css/style.css\" rel=\"stylesheet\"/>\n",
       "<link href=\"static/assets/css/udemy.css\" rel=\"stylesheet\"/>\n",
       "<!-- <link rel=\"stylesheet\" href=\"static/assets/css/mypage.css\"> -->\n",
       "</head>\n",
       "<body>\n",
       "<!-- Navbar -->\n",
       "<div class=\"navbar-fixed\">\n",
       "<!-- Dropdown Structure -->\n",
       "<nav class=\"\">\n",
       "<div class=\"nav-wrapper row\">\n",
       "<div class=\"col s5 l4 offset-s1 offset-l1\">\n",
       "<a class=\"brand-logo\" href=\"\b/\">Webスクレイピング入門</a>\n",
       "</div>\n",
       "<div class=\"col s5 l6\">\n",
       "<ul class=\"right hide-on-med-and-down\" id=\"nav-mobile\">\n",
       "<li><a class=\"\" href=\"\b/login_page\">ログイン</a></li>\n",
       "<li><a class=\"\" href=\"/ranking/\">ランキング</a></li>\n",
       "<li><a class=\"\" href=\"/image\">画像</a></li>\n",
       "<li><a class=\"\" href=\"/udemy\">Udemy</a></li>\n",
       "<li><a class=\"\" href=\"https://scraping-for-beginner.readthedocs.io/\" target=\"”_blank”\">サンプルコード</a></li>\n",
       "</ul>\n",
       "</div>\n",
       "</div>\n",
       "</nav>\n",
       "</div>\n",
       "<div class=\"row\">\n",
       "<div class=\"col s4 offset-s4\">\n",
       "<div class=\"overview\">\n",
       "<p>\n",
       "      こちらのページは、<b>PythonによるWebスクレイピング〜Webアプリケーション編〜</b>で使用します。\n",
       "      </p>\n",
       "</div>\n",
       "<div class=\"\">\n",
       "<div class=\"\">\n",
       "<div class=\"card\">\n",
       "<div class=\"card-image\">\n",
       "<img src=\"/static/assets/img/imanyu.png\"/>\n",
       "<span class=\"card-title\" style=\"color: black; background-color: white;\">いまにゅ</span>\n",
       "</div>\n",
       "<div class=\"card-content\">\n",
       "<p><b><p class=\"position\">いまにゅのプログラミング塾｜code4biz 代表</p></b><br/>\n",
       "\n",
       "            『プログラミング×〇〇』でビジネス戦闘力を向上させる｜東京理科大出身｜元東北大学 非常勤講師｜東進デジタルユニバーシティ最年少講師｜AI教育系ベンチャー（キカガク）取締役 → 今｜Udemy受講生3.3万人｜YouTubeチャンネル登録者10.5万人｜プログラミング初学者に欠かせない学習法等を発信<br/>\n",
       "</p>\n",
       "</div>\n",
       "<div class=\"card-action\">\n",
       "<p class=\"subscribers\">受講生の数：16087</p>\n",
       "<p class=\"reviews\">レビューの数：2769</p>\n",
       "</div>\n",
       "</div>\n",
       "</div>\n",
       "</div>\n",
       "</div>\n",
       "</div>\n",
       "<!-- Compiled and minified JavaScript -->\n",
       "<script src=\"https://code.jquery.com/jquery-3.3.1.min.js\"></script>\n",
       "<script src=\"https://cdnjs.cloudflare.com/ajax/libs/materialize/1.0.0-rc.2/js/materialize.min.js\"></script>\n",
       "<script type=\"text/javascript\">\n",
       "    $(document).ready(function() {\n",
       "      $(\".dropdown-trigger\").dropdown();\n",
       "    });\n",
       "  </script>\n",
       "</body>\n",
       "</html>"
      ]
     },
     "execution_count": 71,
     "metadata": {},
     "output_type": "execute_result"
    }
   ],
   "source": [
    "soup = BeautifulSoup(res.text, 'html.parser')\n",
    "soup"
   ]
  },
  {
   "cell_type": "code",
   "execution_count": null,
   "id": "f507cace-f58c-49f9-845a-0844eeb5f472",
   "metadata": {},
   "outputs": [],
   "source": []
  }
 ],
 "metadata": {
  "kernelspec": {
   "display_name": "Python 3 (ipykernel)",
   "language": "python",
   "name": "python3"
  },
  "language_info": {
   "codemirror_mode": {
    "name": "ipython",
    "version": 3
   },
   "file_extension": ".py",
   "mimetype": "text/x-python",
   "name": "python",
   "nbconvert_exporter": "python",
   "pygments_lexer": "ipython3",
   "version": "3.9.12"
  }
 },
 "nbformat": 4,
 "nbformat_minor": 5
}
