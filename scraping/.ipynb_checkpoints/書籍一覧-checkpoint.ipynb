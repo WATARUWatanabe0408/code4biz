{
 "cells": [
  {
   "cell_type": "code",
   "execution_count": null,
   "id": "01725101-07aa-41d8-8f85-80e8ba5614d2",
   "metadata": {},
   "outputs": [],
   "source": [
    "from bs4 import BeautifulSoup\n",
    "import requests\n",
    "import re\n",
    "\n",
    "url = 'https://books.toscrape.com/'\n",
    "res = requests.get(url)\n",
    "soup = BeautifulSoup(res.text, 'html.parser')\n",
    "\n",
    "books_li = soup.select_one('#default > div > div > div > div > section > div:nth-child(2) > ol').find_all('li')\n",
    "# len()でリストの数を確認するクセをつけよう\n",
    "\n",
    "data = []\n",
    "\n",
    "for book_li in books_li:\n",
    "    book_li.find('a')['href']\n",
    "    # 属性の取得は四角かっこ'属性名'で取得できる\n",
    "\n",
    "    book_link = url + book_li.find('a')['href']\n",
    "    res_book = requests.get(book_link)\n",
    "    soup_book = BeautifulSoup(res_book.text, 'html.parser')\n",
    "\n",
    "    title = soup_book.find('h1').text\n",
    "\n",
    "    _price = soup_book.select_one('.price_color').text\n",
    "    # クラス名はドットを先頭につける\n",
    "    price = float(re.sub(r\"[^\\d.]\", \"\", _price))\n",
    "    # 正規表現で数字とドット以外を抽出してリプレイス\n",
    "    # フロート型なのでfloatで括る\n",
    "\n",
    "    _star = soup_book.find(class_ = 'star-rating')['class'][-1]\n",
    "\n",
    "    star2num = {\n",
    "        'One':1,\n",
    "        'Two':2,\n",
    "        'Three':3,\n",
    "        'Four':4,\n",
    "        'Five':5\n",
    "    }\n",
    "    # 辞書の作成 文字列のOne〜Fiveを数値に変換するため\n",
    "\n",
    "    star = star2num[_star]\n",
    "    # 作成した辞書に文字列のOne〜Fiveのキーを入れて呼び出す\n",
    "\n",
    "    description = soup_book.select_one('#content_inner > article > p').text\n",
    "\n",
    "    datum = {\n",
    "        'title': title,\n",
    "        'price': price,\n",
    "        'star': star,\n",
    "        'description': description\n",
    "    }\n",
    "    data.append(datum)\n",
    "    print(title + '終了')"
   ]
  },
  {
   "cell_type": "code",
   "execution_count": null,
   "id": "596e6b3b-7619-4381-aff8-78f88ab30532",
   "metadata": {
    "tags": []
   },
   "outputs": [],
   "source": [
    "url = 'https://books.toscrape.com/'\n",
    "res = requests.get(url)\n",
    "soup = BeautifulSoup(res.text, 'html.parser')\n",
    "\n",
    "books_li = soup.select_one('#default > div > div > div > div > section > div:nth-child(2) > ol').find_all('li')\n",
    "\n",
    "data = []\n",
    "\n",
    "for i in range(1,51):\n",
    "    _nextpage = soup.select_one('#default > div > div > div > div > section > div:nth-child(2) > div > ul > li.next > a')['href']\n",
    "    nextpage = url + f'catalogue/page-{i}.html'\n",
    "    res_page = requests.get(nextpage)\n",
    "    __nextpage = BeautifulSoup(res_page.text, 'html.parser')\n",
    "    print(nextpage + ' スクレイピング開始')\n",
    "    \n",
    "    for book_li in books_li:\n",
    "        book_li.find('a')['href']\n",
    "        # 属性の取得は四角かっこ'属性名'で取得できる\n",
    "\n",
    "        book_link = url + book_li.find('a')['href']\n",
    "        res_book = requests.get(book_link)\n",
    "        soup_book = BeautifulSoup(res_book.text, 'html.parser')\n",
    "\n",
    "        title = soup_book.find('h1').text\n",
    "\n",
    "        _price = soup_book.select_one('.price_color').text\n",
    "        # クラス名はドットを先頭につける\n",
    "        price = float(re.sub(r\"[^\\d.]\", \"\", _price))\n",
    "        # 正規表現で数字とドット以外を抽出してリプレイス\n",
    "        # フロート型なのでfloatで括る\n",
    "\n",
    "        _star = soup_book.find(class_ = 'star-rating')['class'][-1]\n",
    "\n",
    "        star2num = {\n",
    "            'One':1,\n",
    "            'Two':2,\n",
    "            'Three':3,\n",
    "            'Four':4,\n",
    "            'Five':5\n",
    "        }\n",
    "        # 辞書の作成 文字列のOne〜Fiveを数値に変換するため\n",
    "\n",
    "        star = star2num[_star]\n",
    "        # 作成した辞書に文字列のOne〜Fiveのキーを入れて呼び出す\n",
    "\n",
    "        description = soup_book.select_one('#content_inner > article > p').text\n",
    "\n",
    "        datum = {\n",
    "            'title': title,\n",
    "            'price': price,\n",
    "            'star': star,\n",
    "            'description': description\n",
    "        }\n",
    "        data.append(datum)\n",
    "        print(title + '終了')"
   ]
  },
  {
   "cell_type": "code",
   "execution_count": null,
   "id": "edd03ff7-eb0e-4ecb-82f8-7bbcfdf98e2a",
   "metadata": {},
   "outputs": [],
   "source": []
  },
  {
   "cell_type": "code",
   "execution_count": null,
   "id": "99d6fbe1-982f-415b-988b-600542c9ca64",
   "metadata": {},
   "outputs": [],
   "source": []
  },
  {
   "cell_type": "code",
   "execution_count": null,
   "id": "a3d46dd8-5147-4e41-97fe-b4c80622721d",
   "metadata": {},
   "outputs": [],
   "source": []
  },
  {
   "cell_type": "code",
   "execution_count": null,
   "id": "e0530d6c-30c9-4872-8bfc-94d4d5790de6",
   "metadata": {},
   "outputs": [],
   "source": []
  },
  {
   "cell_type": "code",
   "execution_count": null,
   "id": "aa4b2ab1-9f6d-4863-9e8d-740595ddb77e",
   "metadata": {},
   "outputs": [],
   "source": [
    "len(data)"
   ]
  },
  {
   "cell_type": "code",
   "execution_count": null,
   "id": "5d627081-dd4f-4a44-98b6-cbf2f68eceb2",
   "metadata": {},
   "outputs": [],
   "source": [
    "import pandas as pd"
   ]
  },
  {
   "cell_type": "code",
   "execution_count": null,
   "id": "bb236d1b-6fe9-4f92-b856-b48b5b3f5297",
   "metadata": {},
   "outputs": [],
   "source": [
    "df = pd.DataFrame(data)"
   ]
  },
  {
   "cell_type": "code",
   "execution_count": null,
   "id": "3d37f910-da3d-446e-83bf-f8f3ed04d6db",
   "metadata": {
    "tags": []
   },
   "outputs": [],
   "source": [
    "df"
   ]
  },
  {
   "cell_type": "code",
   "execution_count": null,
   "id": "48d78ff9-067c-4785-84b7-82be50fd454a",
   "metadata": {},
   "outputs": [],
   "source": [
    "round(df['price'].mean(),2)\n",
    "# 平均をとる mean()\n",
    "# 四捨五入 round()"
   ]
  },
  {
   "cell_type": "code",
   "execution_count": null,
   "id": "4527e603-a7b2-40e7-9516-e9873902b0d2",
   "metadata": {},
   "outputs": [],
   "source": [
    "df[df['star'] >= 4]\n",
    "# 条件抽出したら再度dfで括る。そうすると条件に合致したデータフレームが表示される。"
   ]
  },
  {
   "cell_type": "code",
   "execution_count": null,
   "id": "f7b2ef4f-4255-47ef-b868-ab735c3acb82",
   "metadata": {},
   "outputs": [],
   "source": []
  }
 ],
 "metadata": {
  "kernelspec": {
   "display_name": "Python 3 (ipykernel)",
   "language": "python",
   "name": "python3"
  },
  "language_info": {
   "codemirror_mode": {
    "name": "ipython",
    "version": 3
   },
   "file_extension": ".py",
   "mimetype": "text/x-python",
   "name": "python",
   "nbconvert_exporter": "python",
   "pygments_lexer": "ipython3",
   "version": "3.9.12"
  }
 },
 "nbformat": 4,
 "nbformat_minor": 5
}
