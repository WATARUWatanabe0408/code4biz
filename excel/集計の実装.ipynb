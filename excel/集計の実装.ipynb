{
 "cells": [
  {
   "cell_type": "code",
   "execution_count": null,
   "id": "69b31db0-ca82-4a25-8fa3-dcb918b75720",
   "metadata": {},
   "outputs": [],
   "source": [
    "import openpyxl\n",
    "import pandas as pd"
   ]
  },
  {
   "cell_type": "code",
   "execution_count": null,
   "id": "e801affe-86bd-4f1a-9d08-12c6fe54eb3a",
   "metadata": {},
   "outputs": [],
   "source": [
    "wb_members = openpyxl.load_workbook('従業員集約.xlsx', data_only=True)\n",
    "wb_members"
   ]
  },
  {
   "cell_type": "code",
   "execution_count": null,
   "id": "d9a74de6-db3e-44f9-949f-e9d2f1881d7c",
   "metadata": {},
   "outputs": [],
   "source": [
    "names = wb_members.sheetnames"
   ]
  },
  {
   "cell_type": "code",
   "execution_count": null,
   "id": "41fd1b19-99e1-4899-94de-353770002637",
   "metadata": {},
   "outputs": [],
   "source": [
    "name = names[0]\n",
    "name"
   ]
  },
  {
   "cell_type": "code",
   "execution_count": null,
   "id": "5d2d1c67-20af-41a4-b90d-d94620b7e79c",
   "metadata": {},
   "outputs": [],
   "source": [
    "wb_members[name]"
   ]
  },
  {
   "cell_type": "code",
   "execution_count": null,
   "id": "06302d76-2892-4850-9f81-49673f00f7c9",
   "metadata": {},
   "outputs": [],
   "source": [
    "df_name = pd.read_excel('従業員集約.xlsx', sheet_name=name)"
   ]
  },
  {
   "cell_type": "code",
   "execution_count": null,
   "id": "a0bad349-9d23-4d92-bb45-1296af20a35d",
   "metadata": {
    "tags": []
   },
   "outputs": [],
   "source": [
    "df_name"
   ]
  },
  {
   "cell_type": "code",
   "execution_count": null,
   "id": "6da90058-584f-4784-8b66-0ee5a964d22b",
   "metadata": {},
   "outputs": [],
   "source": [
    "start_date = '2021-10-1'\n",
    "end_date = '2021-10-31'"
   ]
  },
  {
   "cell_type": "code",
   "execution_count": null,
   "id": "7b598f42-2035-43e7-a22b-735e3e7d1254",
   "metadata": {
    "tags": []
   },
   "outputs": [],
   "source": [
    "df_name['日付'] >= start_date"
   ]
  },
  {
   "cell_type": "code",
   "execution_count": null,
   "id": "a4d2443e-b8a0-490a-9c2b-b1137bbaf2b6",
   "metadata": {
    "tags": []
   },
   "outputs": [],
   "source": [
    "df_name['日付'] <= end_date"
   ]
  },
  {
   "cell_type": "code",
   "execution_count": null,
   "id": "4e6a9bd7-cbb5-4f88-90ba-04e15e157ab1",
   "metadata": {
    "tags": []
   },
   "outputs": [],
   "source": [
    "df_name_filtered = df_name[(df_name['日付'] >= start_date) & (df_name['日付'] <= end_date)]\n",
    "# []で条件を括ると合致したデータフレームが表示される。\n",
    "df_name_filtered"
   ]
  },
  {
   "cell_type": "code",
   "execution_count": null,
   "id": "740c2886-c46b-4629-84a7-9b6571a79f6d",
   "metadata": {},
   "outputs": [],
   "source": [
    "total_working_hour = df_name_filtered['勤務時間'].sum()\n",
    "total_working_hour"
   ]
  },
  {
   "cell_type": "code",
   "execution_count": null,
   "id": "07022a5b-960c-43f7-8982-69d5aaa39153",
   "metadata": {},
   "outputs": [],
   "source": [
    "hour = int(df_name_filtered['勤務時間'].sum()/60)\n",
    "hour"
   ]
  },
  {
   "cell_type": "code",
   "execution_count": null,
   "id": "d4fe3cab-64ce-4005-b6ca-e7224a148ca7",
   "metadata": {},
   "outputs": [],
   "source": [
    "minute = df_name_filtered['勤務時間'].sum()%60\n",
    "minute"
   ]
  },
  {
   "cell_type": "code",
   "execution_count": null,
   "id": "184dbf0b-69fb-4e86-8929-19fd0e99bf1e",
   "metadata": {},
   "outputs": [],
   "source": [
    "total_working_hour = f'{hour}:{minute}'\n",
    "total_working_hour"
   ]
  },
  {
   "cell_type": "code",
   "execution_count": null,
   "id": "8802cf69-94e9-4019-a771-87d7f1eb742f",
   "metadata": {},
   "outputs": [],
   "source": [
    "# 勤務時間を計算する関数 ※勤務時間カラムを引数に設定する。\n",
    "def to_hour(df):\n",
    "    hour = int(df_name_filtered['勤務時間'].sum()/60)\n",
    "    minute = df_name_filtered['勤務時間'].sum()%60\n",
    "    total_working_hour = f'{hour}:{minute}'\n",
    "    return total_working_hour\n",
    "\n",
    "to_hour(df_name_filtered['勤務時間'])"
   ]
  },
  {
   "cell_type": "code",
   "execution_count": null,
   "id": "0f6b31a5-465f-4fa3-b492-42b74967a7bf",
   "metadata": {},
   "outputs": [],
   "source": [
    "# 総労働時間\n",
    "total_working_hour = to_hour(df_name_filtered['勤務時間'])"
   ]
  },
  {
   "cell_type": "code",
   "execution_count": null,
   "id": "aca73259-481c-4543-8ad2-f53ae9c7f5b6",
   "metadata": {},
   "outputs": [],
   "source": [
    "# 勤務日数\n",
    "working_days = len(df_name_filtered[df_name_filtered['勤務時間'] != 0])"
   ]
  },
  {
   "cell_type": "code",
   "execution_count": null,
   "id": "9c5c82fa-cf23-4ca6-bd86-a893131a3a49",
   "metadata": {},
   "outputs": [],
   "source": [
    "# 交通費\n",
    "transportation_expense = df_name_filtered['交通費'].sum()"
   ]
  },
  {
   "cell_type": "code",
   "execution_count": null,
   "id": "eec4c109-1710-4540-9998-8e40f5ce710b",
   "metadata": {},
   "outputs": [],
   "source": [
    "# 深夜勤務日数\n",
    "n_midnight_work = len(df_name_filtered[df_name_filtered['深夜勤務'] == '◯'])"
   ]
  },
  {
   "cell_type": "code",
   "execution_count": null,
   "id": "21ed1ed7-57b7-480c-ae7c-4a7773f84c0c",
   "metadata": {},
   "outputs": [],
   "source": [
    "datum = {\n",
    "    '氏名':name,\n",
    "    '総労働時間':total_working_hour,\n",
    "    '勤務日数':working_days,\n",
    "    '交通費':transportation_expense,\n",
    "    '深夜勤務日数':n_midnight_work,\n",
    "}"
   ]
  },
  {
   "cell_type": "code",
   "execution_count": null,
   "id": "167b0e69-8c1f-43e7-ba14-156149a82f03",
   "metadata": {},
   "outputs": [],
   "source": [
    "datum"
   ]
  },
  {
   "cell_type": "code",
   "execution_count": null,
   "id": "c9ecec7d-d36b-44ca-be31-940d7667285e",
   "metadata": {},
   "outputs": [],
   "source": []
  },
  {
   "cell_type": "code",
   "execution_count": 21,
   "id": "d1c27b9a-d5df-4817-8ee8-0c5b6e101756",
   "metadata": {},
   "outputs": [],
   "source": [
    "# 勤務時間を計算する関数 ※勤務時間カラムを引数に設定する。\n",
    "def to_hour(df):\n",
    "    hour = int(df_name_filtered['勤務時間'].sum()/60)\n",
    "    minute = df_name_filtered['勤務時間'].sum()%60\n",
    "    total_working_hour = f'{hour}:{minute}'\n",
    "    return total_working_hour\n",
    "\n",
    "wb_members = openpyxl.load_workbook('従業員集約.xlsx', data_only=True)\n",
    "names = wb_members.sheetnames\n",
    "\n",
    "data = []\n",
    "\n",
    "for name in names:\n",
    "    df_name = pd.read_excel('従業員集約.xlsx', sheet_name=name)\n",
    "\n",
    "    start_date = '2021-10-1'\n",
    "    end_date = '2021-10-31'\n",
    "\n",
    "    df_name_filtered = df_name[(df_name['日付'] >= start_date) & (df_name['日付'] <= end_date)]\n",
    "    total_working_hour = df_name_filtered['勤務時間'].sum()\n",
    "    working_days = len(df_name_filtered[df_name_filtered['勤務時間'] != 0])\n",
    "    transportation_expense = df_name_filtered['交通費'].sum()\n",
    "    n_midnight_work = len(df_name_filtered[df_name_filtered['深夜勤務'] == '◯'])\n",
    "\n",
    "    datum = {\n",
    "        '氏名':name,\n",
    "        '総労働時間':total_working_hour,\n",
    "        '勤務日数':working_days,\n",
    "        '交通費':transportation_expense,\n",
    "        '深夜勤務日数':n_midnight_work,\n",
    "    }\n",
    "    data.append(datum)"
   ]
  },
  {
   "cell_type": "code",
   "execution_count": 55,
   "id": "447cb303-c654-4d5b-9920-d08724d88794",
   "metadata": {},
   "outputs": [
    {
     "data": {
      "text/plain": [
       "[{'氏名': '小宮正毅', '総労働時間': 8370, '勤務日数': 15, '交通費': 0, '深夜勤務日数': 15},\n",
       " {'氏名': '森川香音', '総労働時間': 8775, '勤務日数': 15, '交通費': 0, '深夜勤務日数': 12},\n",
       " {'氏名': '玉田文月', '総労働時間': 6705, '勤務日数': 12, '交通費': 0, '深夜勤務日数': 0},\n",
       " {'氏名': '西野柚葉', '総労働時間': 8505, '勤務日数': 15, '交通費': 0, '深夜勤務日数': 0},\n",
       " {'氏名': '柳沢瑠衣', '総労働時間': 8910, '勤務日数': 15, '交通費': 0, '深夜勤務日数': 6},\n",
       " {'氏名': '小池隼人', '総労働時間': 7605, '勤務日数': 15, '交通費': 0, '深夜勤務日数': 0},\n",
       " {'氏名': '椎名哲也', '総労働時間': 7065, '勤務日数': 12, '交通費': 0, '深夜勤務日数': 6},\n",
       " {'氏名': '小森莉紗', '総労働時間': 6480, '勤務日数': 12, '交通費': 0, '深夜勤務日数': 12},\n",
       " {'氏名': '海老原有紀', '総労働時間': 8355, '勤務日数': 14, '交通費': 0, '深夜勤務日数': 10},\n",
       " {'氏名': '泉雪海', '総労働時間': 8145, '勤務日数': 15, '交通費': 0, '深夜勤務日数': 0}]"
      ]
     },
     "execution_count": 55,
     "metadata": {},
     "output_type": "execute_result"
    }
   ],
   "source": [
    "data"
   ]
  },
  {
   "cell_type": "code",
   "execution_count": 64,
   "id": "67885b92-9c1c-4ecf-900f-b7bf8803cc41",
   "metadata": {
    "tags": []
   },
   "outputs": [
    {
     "data": {
      "text/html": [
       "<div>\n",
       "<style scoped>\n",
       "    .dataframe tbody tr th:only-of-type {\n",
       "        vertical-align: middle;\n",
       "    }\n",
       "\n",
       "    .dataframe tbody tr th {\n",
       "        vertical-align: top;\n",
       "    }\n",
       "\n",
       "    .dataframe thead th {\n",
       "        text-align: right;\n",
       "    }\n",
       "</style>\n",
       "<table border=\"1\" class=\"dataframe\">\n",
       "  <thead>\n",
       "    <tr style=\"text-align: right;\">\n",
       "      <th></th>\n",
       "      <th>氏名</th>\n",
       "      <th>総労働時間</th>\n",
       "      <th>勤務日数</th>\n",
       "      <th>交通費</th>\n",
       "      <th>深夜勤務日数</th>\n",
       "    </tr>\n",
       "  </thead>\n",
       "  <tbody>\n",
       "    <tr>\n",
       "      <th>0</th>\n",
       "      <td>小宮正毅</td>\n",
       "      <td>8370</td>\n",
       "      <td>15</td>\n",
       "      <td>0</td>\n",
       "      <td>15</td>\n",
       "    </tr>\n",
       "    <tr>\n",
       "      <th>1</th>\n",
       "      <td>森川香音</td>\n",
       "      <td>8775</td>\n",
       "      <td>15</td>\n",
       "      <td>0</td>\n",
       "      <td>12</td>\n",
       "    </tr>\n",
       "    <tr>\n",
       "      <th>2</th>\n",
       "      <td>玉田文月</td>\n",
       "      <td>6705</td>\n",
       "      <td>12</td>\n",
       "      <td>0</td>\n",
       "      <td>0</td>\n",
       "    </tr>\n",
       "    <tr>\n",
       "      <th>3</th>\n",
       "      <td>西野柚葉</td>\n",
       "      <td>8505</td>\n",
       "      <td>15</td>\n",
       "      <td>0</td>\n",
       "      <td>0</td>\n",
       "    </tr>\n",
       "    <tr>\n",
       "      <th>4</th>\n",
       "      <td>柳沢瑠衣</td>\n",
       "      <td>8910</td>\n",
       "      <td>15</td>\n",
       "      <td>0</td>\n",
       "      <td>6</td>\n",
       "    </tr>\n",
       "    <tr>\n",
       "      <th>5</th>\n",
       "      <td>小池隼人</td>\n",
       "      <td>7605</td>\n",
       "      <td>15</td>\n",
       "      <td>0</td>\n",
       "      <td>0</td>\n",
       "    </tr>\n",
       "    <tr>\n",
       "      <th>6</th>\n",
       "      <td>椎名哲也</td>\n",
       "      <td>7065</td>\n",
       "      <td>12</td>\n",
       "      <td>0</td>\n",
       "      <td>6</td>\n",
       "    </tr>\n",
       "    <tr>\n",
       "      <th>7</th>\n",
       "      <td>小森莉紗</td>\n",
       "      <td>6480</td>\n",
       "      <td>12</td>\n",
       "      <td>0</td>\n",
       "      <td>12</td>\n",
       "    </tr>\n",
       "    <tr>\n",
       "      <th>8</th>\n",
       "      <td>海老原有紀</td>\n",
       "      <td>8355</td>\n",
       "      <td>14</td>\n",
       "      <td>0</td>\n",
       "      <td>10</td>\n",
       "    </tr>\n",
       "    <tr>\n",
       "      <th>9</th>\n",
       "      <td>泉雪海</td>\n",
       "      <td>8145</td>\n",
       "      <td>15</td>\n",
       "      <td>0</td>\n",
       "      <td>0</td>\n",
       "    </tr>\n",
       "  </tbody>\n",
       "</table>\n",
       "</div>"
      ],
      "text/plain": [
       "      氏名  総労働時間  勤務日数  交通費  深夜勤務日数\n",
       "0   小宮正毅   8370    15    0      15\n",
       "1   森川香音   8775    15    0      12\n",
       "2   玉田文月   6705    12    0       0\n",
       "3   西野柚葉   8505    15    0       0\n",
       "4   柳沢瑠衣   8910    15    0       6\n",
       "5   小池隼人   7605    15    0       0\n",
       "6   椎名哲也   7065    12    0       6\n",
       "7   小森莉紗   6480    12    0      12\n",
       "8  海老原有紀   8355    14    0      10\n",
       "9    泉雪海   8145    15    0       0"
      ]
     },
     "execution_count": 85,
     "metadata": {},
     "output_type": "execute_result"
    }
   ],
   "source": [
    "df_summary = pd.DataFrame(data)\n",
    "df_summary"
   ]
  },
  {
   "cell_type": "code",
   "execution_count": 65,
   "id": "d7a5308b-f069-41a5-8eb6-b3c898f41b50",
   "metadata": {},
   "outputs": [],
   "source": [
    "wb_summary = openpyxl.Workbook()\n",
    "wb_summary.save('集計.xlsx')"
   ]
  },
  {
   "cell_type": "code",
   "execution_count": 74,
   "id": "43f6f33d-497d-4a85-8be0-0b5f32909551",
   "metadata": {},
   "outputs": [],
   "source": [
    "wb_summary = openpyxl.load_workbook('集計.xlsx', data_only=True)\n",
    "sheet_name = '2021年10月分'\n",
    "wb_summary.create_sheet(title = sheet_name)\n",
    "ws_summary = wb_summary[sheet_name]"
   ]
  },
  {
   "cell_type": "code",
   "execution_count": 75,
   "id": "2af11799-c844-488a-be61-e1cc65f85551",
   "metadata": {},
   "outputs": [],
   "source": [
    "ws_summary['A1'].value = '氏名'\n",
    "ws_summary['B1'].value = '総労働時間'\n",
    "ws_summary['C1'].value = '勤務日数'\n",
    "ws_summary['D1'].value = '交通費'\n",
    "ws_summary['E1'].value = '深夜勤務日数'\n",
    "\n",
    "ws_summary.column_dimensions['A'].width = 10\n",
    "ws_summary.column_dimensions['B'].width = 10\n",
    "ws_summary.column_dimensions['C'].width = 10\n",
    "ws_summary.column_dimensions['D'].width = 10\n",
    "ws_summary.column_dimensions['E'].width = 10"
   ]
  },
  {
   "cell_type": "code",
   "execution_count": 86,
   "id": "59a16f5a-d71f-4c0b-81eb-0f4127c3aa3b",
   "metadata": {},
   "outputs": [],
   "source": [
    "for index, row  in df_summary.iterrows():\n",
    "    ws_summary.cell(row = index+2, column = 1).value = row['氏名']\n",
    "    ws_summary.cell(row = index+2, column = 2).number_format = '[hh]:mm'\n",
    "    ws_summary.cell(row = index+2, column = 2).value = row['総労働時間']\n",
    "    ws_summary.cell(row = index+2, column = 3).value = row['勤務日数']\n",
    "    ws_summary.cell(row = index+2, column = 4).value = row['交通費']\n",
    "    ws_summary.cell(row = index+2, column = 5).value = row['深夜勤務日数']"
   ]
  },
  {
   "cell_type": "code",
   "execution_count": 88,
   "id": "b6a53dff-0ca8-4183-9fc9-dab71d6137e2",
   "metadata": {},
   "outputs": [],
   "source": [
    "wb_summary.save('集計.xlsx')"
   ]
  },
  {
   "cell_type": "code",
   "execution_count": null,
   "id": "1f85ac8d-5eb2-499c-ae41-3561e66d3aa3",
   "metadata": {},
   "outputs": [],
   "source": []
  }
 ],
 "metadata": {
  "kernelspec": {
   "display_name": "Python 3 (ipykernel)",
   "language": "python",
   "name": "python3"
  },
  "language_info": {
   "codemirror_mode": {
    "name": "ipython",
    "version": 3
   },
   "file_extension": ".py",
   "mimetype": "text/x-python",
   "name": "python",
   "nbconvert_exporter": "python",
   "pygments_lexer": "ipython3",
   "version": "3.9.12"
  }
 },
 "nbformat": 4,
 "nbformat_minor": 5
}
