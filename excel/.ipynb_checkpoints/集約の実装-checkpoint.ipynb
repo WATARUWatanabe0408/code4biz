{
 "cells": [
  {
   "cell_type": "code",
   "execution_count": 2,
   "id": "8dde597e-0921-404f-ba25-c60e557fc772",
   "metadata": {
    "tags": []
   },
   "outputs": [
    {
     "name": "stdout",
     "output_type": "stream",
     "text": [
      "Requirement already satisfied: pandas in /Users/wataru/.pyenv/versions/anaconda3-2021.05/lib/python3.8/site-packages (1.2.4)\n",
      "Requirement already satisfied: python-dateutil>=2.7.3 in /Users/wataru/.pyenv/versions/anaconda3-2021.05/lib/python3.8/site-packages (from pandas) (2.8.1)\n",
      "Requirement already satisfied: pytz>=2017.3 in /Users/wataru/.pyenv/versions/anaconda3-2021.05/lib/python3.8/site-packages (from pandas) (2021.1)\n",
      "Requirement already satisfied: numpy>=1.16.5 in /Users/wataru/.pyenv/versions/anaconda3-2021.05/lib/python3.8/site-packages (from pandas) (1.20.1)\n",
      "Requirement already satisfied: six>=1.5 in /Users/wataru/.pyenv/versions/anaconda3-2021.05/lib/python3.8/site-packages (from python-dateutil>=2.7.3->pandas) (1.15.0)\n",
      "Requirement already satisfied: openpyxl in /Users/wataru/.pyenv/versions/anaconda3-2021.05/lib/python3.8/site-packages (3.0.7)\n",
      "Requirement already satisfied: et-xmlfile in /Users/wataru/.pyenv/versions/anaconda3-2021.05/lib/python3.8/site-packages (from openpyxl) (1.0.1)\n"
     ]
    }
   ],
   "source": [
    "!pip install pandas\n",
    "!pip install openpyxl\n",
    "from glob import glob\n",
    "import openpyxl\n",
    "import pandas as pd"
   ]
  },
  {
   "cell_type": "code",
   "execution_count": 4,
   "id": "08a729ca-f291-4352-b7a2-614f9e70211e",
   "metadata": {},
   "outputs": [],
   "source": [
    "def sub_rest_time(working_hour):\n",
    "    if working_hour >= 480:\n",
    "        working_hour -= 60\n",
    "    elif working_hour >= 360:\n",
    "        working_hour -= 45\n",
    "    else:\n",
    "        pass\n",
    "    \n",
    "    return working_hour\n",
    "\n",
    "def to_minute(cell):\n",
    "    if cell.value == None:\n",
    "        minute = 0\n",
    "    else:\n",
    "        minute = cell.value.hour*60+cell.value.minute\n",
    "    \n",
    "    return minute\n",
    "\n",
    "def none_to_zero(cell):\n",
    "    transeportation_expense = 0 if cell.value is None else cell.value \n",
    "    return transeportation_expense"
   ]
  },
  {
   "cell_type": "code",
   "execution_count": 5,
   "id": "8ded4349-f812-4418-aba5-b0a64f19596d",
   "metadata": {},
   "outputs": [
    {
     "name": "stderr",
     "output_type": "stream",
     "text": [
      "/Users/wataru/.pyenv/versions/anaconda3-2021.05/lib/python3.8/site-packages/openpyxl/worksheet/_reader.py:312: UserWarning: Data Validation extension is not supported and will be removed\n",
      "  warn(msg)\n"
     ]
    }
   ],
   "source": [
    "file_paths = glob('src/20211016/*.xlsx')\n",
    "first_lows = [7, 13, 19, 25, 31, 37, 43]\n",
    "data = {}\n",
    "# キー：名前　バリュー：1週間分のデータ(datum)\n",
    "for file_path in file_paths:\n",
    "\n",
    "    datum = {}\n",
    "    datum['date'] = []\n",
    "    datum['is_midnight_work'] = []\n",
    "    datum['working_hour'] = []\n",
    "    datum['transeportation_expense'] = []\n",
    "\n",
    "    wb = openpyxl.load_workbook(file_path, data_only=True)\n",
    "    ws = wb['週報']\n",
    "    name = ws['ag4'].value\n",
    "   \n",
    "    for row in first_lows:\n",
    "        date =  ws.cell(row=7, column=1).value.date()\n",
    "\n",
    "        # 文字列を扱うメソッドの一つ.startswith()\n",
    "        # if文のワンライナー記法\n",
    "        is_midnight_work = '◯' if ws.cell(row=row, column=6).value.startswith(('F', 'I', 'J', 'M')) else ''\n",
    "\n",
    "        working_hour = to_minute(ws.cell(row=row, column=21))+to_minute(ws.cell(row=row+2, column=21))+to_minute(ws.cell(row=row+4, column=21))\n",
    "        working_hour = sub_rest_time(working_hour)\n",
    "\n",
    "        transeportation_expense = none_to_zero(ws.cell(row=row, column=40))+none_to_zero(ws.cell(row=row+2, column=40))+none_to_zero(ws.cell(row=row+4, column=40))\n",
    "\n",
    "\n",
    "        datum['date'].append(date)\n",
    "        datum['is_midnight_work'].append(is_midnight_work)\n",
    "        datum['working_hour'].append(working_hour)\n",
    "        datum['transeportation_expense'].append(transeportation_expense)\n",
    "    \n",
    "    data[name] = datum"
   ]
  },
  {
   "cell_type": "code",
   "execution_count": 3,
   "id": "421a08d2-7958-4011-9682-cd647a7e749a",
   "metadata": {},
   "outputs": [],
   "source": [
    "wb_members = openpyxl.Workbook()\n",
    "wb_members.save('従業員集約.xlsx')"
   ]
  },
  {
   "cell_type": "code",
   "execution_count": 15,
   "id": "a8616f2c-8643-43db-b177-9dd642455a49",
   "metadata": {},
   "outputs": [],
   "source": [
    "wb_members = openpyxl.load_workbook('従業員集約.xlsx', data_only=True)"
   ]
  },
  {
   "cell_type": "code",
   "execution_count": 19,
   "id": "8ec2e545-ff1c-418c-90f8-c30ae56e2b70",
   "metadata": {},
   "outputs": [],
   "source": [
    "wb_members.save('従業員集約.xlsx')"
   ]
  },
  {
   "cell_type": "code",
   "execution_count": 20,
   "id": "f67157d7-2b4f-4aee-9c88-e09097f54125",
   "metadata": {},
   "outputs": [],
   "source": [
    "for name in data.keys():\n",
    "    if not name in wb_members.sheetnames:\n",
    "        wb_members.create_sheet(title=name)"
   ]
  },
  {
   "cell_type": "code",
   "execution_count": 21,
   "id": "b75039fc-83c5-4a5e-8295-e2ad617a67be",
   "metadata": {},
   "outputs": [],
   "source": [
    "wb_members.save('従業員集約.xlsx')"
   ]
  },
  {
   "cell_type": "code",
   "execution_count": 17,
   "id": "fe0aa84e-cb5a-4d58-a624-151c683be4fd",
   "metadata": {},
   "outputs": [
    {
     "data": {
      "text/plain": [
       "<Worksheet \"小宮正毅\">"
      ]
     },
     "execution_count": 17,
     "metadata": {},
     "output_type": "execute_result"
    }
   ],
   "source": [
    "wb_members.create_sheet(title=name)"
   ]
  },
  {
   "cell_type": "code",
   "execution_count": 22,
   "id": "53b991f1-3868-4743-a5d9-4ddb91ce9bbc",
   "metadata": {},
   "outputs": [],
   "source": [
    "wb_members.remove(wb_members['Sheet'])"
   ]
  },
  {
   "cell_type": "code",
   "execution_count": 23,
   "id": "d114fd1d-45d6-4243-9f61-27202424c5da",
   "metadata": {},
   "outputs": [],
   "source": [
    "wb_members.save('従業員集約.xlsx')"
   ]
  },
  {
   "cell_type": "code",
   "execution_count": 31,
   "id": "2f50af40-39ca-489e-af28-a65d0dc0a4bb",
   "metadata": {},
   "outputs": [],
   "source": [
    "import pandas as pd"
   ]
  },
  {
   "cell_type": "code",
   "execution_count": 43,
   "id": "a0845cbe-32d9-48ab-bbbd-0f8c4d5cdcb0",
   "metadata": {},
   "outputs": [],
   "source": [
    "name = list(data.keys())[0]\n",
    "datum = data[name]\n",
    "ws_members = wb_members[name]"
   ]
  },
  {
   "cell_type": "code",
   "execution_count": null,
   "id": "5627fea5-f9fa-4440-b912-44475597e93a",
   "metadata": {
    "tags": []
   },
   "outputs": [],
   "source": [
    "_df = pd.DataFrame(datum)\n",
    "_df"
   ]
  },
  {
   "cell_type": "code",
   "execution_count": 42,
   "id": "e101b40a-fb30-46c6-a32d-9e6cdb8db45c",
   "metadata": {},
   "outputs": [],
   "source": [
    "max_row = ws_members.max_row"
   ]
  },
  {
   "cell_type": "code",
   "execution_count": 9,
   "id": "a2d05dc0-7df0-4b95-b25c-a3b495b137d0",
   "metadata": {},
   "outputs": [],
   "source": [
    "wb_members = openpyxl.load_workbook('従業員集約.xlsx', data_only=True)\n",
    "\n",
    "for name in data.keys():\n",
    "    if not name in wb_members.sheetnames:\n",
    "        wb_members.create_sheet(title=name)\n",
    "\n",
    "for name in data.keys():\n",
    "    datum = data[name]\n",
    "    ws_members = wb_members[name]\n",
    "\n",
    "    _df = pd.DataFrame(datum)\n",
    "    max_row = ws_members.max_row\n",
    "\n",
    "    if max_row == 1:\n",
    "        # カラムを設定  \n",
    "        ws_members['A1'].value = '日付'\n",
    "        ws_members['B1'].value = '勤務時間'\n",
    "        ws_members['C1'].value = '交通費'\n",
    "        ws_members['D1'].value = '深夜勤務'\n",
    "        # カラム幅\n",
    "        ws_members.column_dimensions['A'].width = 15\n",
    "        ws_members.column_dimensions['B'].width = 10\n",
    "        ws_members.column_dimensions['C'].width = 10\n",
    "        ws_members.column_dimensions['D'].width = 10\n",
    "\n",
    "    for index, row in _df.iterrows():\n",
    "        ws_members.cell(row=max_row + index + 1, column = 1).value = row['date']\n",
    "        ws_members.cell(row=max_row + index + 1, column = 2).value = row['working_hour']\n",
    "        ws_members.cell(row=max_row + index + 1, column = 3).value = row['transeportation_expense']\n",
    "        ws_members.cell(row=max_row + index + 1, column = 4).value = row['is_midnight_work']"
   ]
  },
  {
   "cell_type": "code",
   "execution_count": 11,
   "id": "5e10b7ad-2ea1-4bf6-b40c-ac6f9b991924",
   "metadata": {},
   "outputs": [],
   "source": [
    "wb_members.save('従業員集約.xlsx')"
   ]
  },
  {
   "cell_type": "code",
   "execution_count": 39,
   "id": "c7120ef4-d48f-4767-bae2-c0735a4e7c7f",
   "metadata": {},
   "outputs": [
    {
     "name": "stdout",
     "output_type": "stream",
     "text": [
      "0\n",
      "1\n",
      "2\n",
      "3\n",
      "4\n",
      "5\n",
      "6\n"
     ]
    }
   ],
   "source": [
    "for index, row in _df.iterrows():\n",
    "    print(index)"
   ]
  },
  {
   "cell_type": "code",
   "execution_count": 47,
   "id": "bafb26c1-6afd-43f8-abe1-d41f7f2bbe7a",
   "metadata": {},
   "outputs": [],
   "source": [
    "wb_members.save('従業員集約.xlsx')"
   ]
  },
  {
   "cell_type": "code",
   "execution_count": null,
   "id": "852251e6-c94d-4452-bfce-581989385781",
   "metadata": {},
   "outputs": [],
   "source": []
  }
 ],
 "metadata": {
  "kernelspec": {
   "display_name": "Python 3",
   "language": "python",
   "name": "python3"
  },
  "language_info": {
   "codemirror_mode": {
    "name": "ipython",
    "version": 3
   },
   "file_extension": ".py",
   "mimetype": "text/x-python",
   "name": "python",
   "nbconvert_exporter": "python",
   "pygments_lexer": "ipython3",
   "version": "3.8.8"
  }
 },
 "nbformat": 4,
 "nbformat_minor": 5
}
