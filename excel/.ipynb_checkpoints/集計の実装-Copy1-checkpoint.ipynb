{
 "cells": [
  {
   "cell_type": "code",
   "execution_count": null,
   "id": "69b31db0-ca82-4a25-8fa3-dcb918b75720",
   "metadata": {},
   "outputs": [],
   "source": [
    "import openpyxl\n",
    "import pandas as pd"
   ]
  },
  {
   "cell_type": "code",
   "execution_count": 21,
   "id": "d1c27b9a-d5df-4817-8ee8-0c5b6e101756",
   "metadata": {},
   "outputs": [],
   "source": [
    "# 勤務時間を計算する関数 ※勤務時間カラムを引数に設定する。\n",
    "def to_hour(df):\n",
    "    hour = int(df_name_filtered['勤務時間'].sum()/60)\n",
    "    minute = df_name_filtered['勤務時間'].sum()%60\n",
    "    total_working_hour = f'{hour}:{minute}'\n",
    "    return total_working_hour\n",
    "\n",
    "wb_members = openpyxl.load_workbook('従業員集約.xlsx', data_only=True)\n",
    "names = wb_members.sheetnames\n",
    "\n",
    "data = []\n",
    "\n",
    "for name in names:\n",
    "    df_name = pd.read_excel('従業員集約.xlsx', sheet_name=name)\n",
    "\n",
    "    start_date = '2021-10-1'\n",
    "    end_date = '2021-10-31'\n",
    "\n",
    "    df_name_filtered = df_name[(df_name['日付'] >= start_date) & (df_name['日付'] <= end_date)]\n",
    "    total_working_hour = df_name_filtered['勤務時間'].sum()\n",
    "    working_days = len(df_name_filtered[df_name_filtered['勤務時間'] != 0])\n",
    "    transportation_expense = df_name_filtered['交通費'].sum()\n",
    "    n_midnight_work = len(df_name_filtered[df_name_filtered['深夜勤務'] == '◯'])\n",
    "\n",
    "    datum = {\n",
    "        '氏名':name,\n",
    "        '総労働時間':total_working_hour,\n",
    "        '勤務日数':working_days,\n",
    "        '交通費':transportation_expense,\n",
    "        '深夜勤務日数':n_midnight_work,\n",
    "    }\n",
    "    data.append(datum)\n",
    "\n",
    "df_summary = pd.DataFrame(data)\n",
    "\n",
    "wb_summary = openpyxl.Workbook()\n",
    "wb_summary.save('集計.xlsx')\n",
    "\n",
    "wb_summary = openpyxl.load_workbook('集計.xlsx', data_only=True)\n",
    "sheet_name = '2021年10月分'\n",
    "wb_summary.create_sheet(title = sheet_name)\n",
    "ws_summary = wb_summary[sheet_name]\n",
    "\n",
    "ws_summary['A1'].value = '氏名'\n",
    "ws_summary['B1'].value = '総労働時間'\n",
    "ws_summary['C1'].value = '勤務日数'\n",
    "ws_summary['D1'].value = '交通費'\n",
    "ws_summary['E1'].value = '深夜勤務日数'\n",
    "\n",
    "ws_summary.column_dimensions['A'].width = 10\n",
    "ws_summary.column_dimensions['B'].width = 10\n",
    "ws_summary.column_dimensions['C'].width = 10\n",
    "ws_summary.column_dimensions['D'].width = 10\n",
    "ws_summary.column_dimensions['E'].width = 10\n",
    "\n",
    "for index, row  in df_summary.iterrows():\n",
    "    ws_summary.cell(row = index+2, column = 1).value = row['氏名']\n",
    "    ws_summary.cell(row = index+2, column = 2).number_format = '[hh]:mm'\n",
    "    ws_summary.cell(row = index+2, column = 2).value = row['総労働時間']\n",
    "    ws_summary.cell(row = index+2, column = 3).value = row['勤務日数']\n",
    "    ws_summary.cell(row = index+2, column = 4).value = row['交通費']\n",
    "    ws_summary.cell(row = index+2, column = 5).value = row['深夜勤務日数']\n",
    "\n",
    "wb_summary.save('集計.xlsx')"
   ]
  }
 ],
 "metadata": {
  "kernelspec": {
   "display_name": "Python 3 (ipykernel)",
   "language": "python",
   "name": "python3"
  },
  "language_info": {
   "codemirror_mode": {
    "name": "ipython",
    "version": 3
   },
   "file_extension": ".py",
   "mimetype": "text/x-python",
   "name": "python",
   "nbconvert_exporter": "python",
   "pygments_lexer": "ipython3",
   "version": "3.9.12"
  }
 },
 "nbformat": 4,
 "nbformat_minor": 5
}
